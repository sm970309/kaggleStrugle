{
 "cells": [
  {
   "cell_type": "code",
   "execution_count": 1,
   "metadata": {},
   "outputs": [],
   "source": [
    "# 노트북 안에서 그래프를 그리기 위해\n",
    "%matplotlib inline\n",
    "\n",
    "# Import the standard Python Scientific Libraries\n",
    "import pandas as pd\n",
    "import numpy as np\n",
    "from scipy import stats\n",
    "import matplotlib.pyplot as plt\n",
    "import seaborn as sns\n",
    "\n",
    "# Suppress Deprecation and Incorrect Usage Warnings \n",
    "import warnings\n",
    "warnings.filterwarnings('ignore')"
   ]
  },
  {
   "cell_type": "code",
   "execution_count": 2,
   "metadata": {},
   "outputs": [
    {
     "data": {
      "text/plain": [
       "(290, 3)"
      ]
     },
     "execution_count": 2,
     "metadata": {},
     "output_type": "execute_result"
    }
   ],
   "source": [
    "# 설문 스키마\n",
    "question = pd.read_csv('data/schema.csv')\n",
    "question.shape"
   ]
  },
  {
   "cell_type": "code",
   "execution_count": 3,
   "metadata": {},
   "outputs": [
    {
     "data": {
      "text/html": [
       "<div>\n",
       "<style scoped>\n",
       "    .dataframe tbody tr th:only-of-type {\n",
       "        vertical-align: middle;\n",
       "    }\n",
       "\n",
       "    .dataframe tbody tr th {\n",
       "        vertical-align: top;\n",
       "    }\n",
       "\n",
       "    .dataframe thead th {\n",
       "        text-align: right;\n",
       "    }\n",
       "</style>\n",
       "<table border=\"1\" class=\"dataframe\">\n",
       "  <thead>\n",
       "    <tr style=\"text-align: right;\">\n",
       "      <th></th>\n",
       "      <th>Column</th>\n",
       "      <th>Question</th>\n",
       "      <th>Asked</th>\n",
       "    </tr>\n",
       "  </thead>\n",
       "  <tbody>\n",
       "    <tr>\n",
       "      <th>0</th>\n",
       "      <td>GenderSelect</td>\n",
       "      <td>Select your gender identity. - Selected Choice</td>\n",
       "      <td>All</td>\n",
       "    </tr>\n",
       "    <tr>\n",
       "      <th>1</th>\n",
       "      <td>GenderFreeForm</td>\n",
       "      <td>Select your gender identity. - A different ide...</td>\n",
       "      <td>All</td>\n",
       "    </tr>\n",
       "    <tr>\n",
       "      <th>2</th>\n",
       "      <td>Country</td>\n",
       "      <td>Select the country you currently live in.</td>\n",
       "      <td>All</td>\n",
       "    </tr>\n",
       "    <tr>\n",
       "      <th>3</th>\n",
       "      <td>Age</td>\n",
       "      <td>What's your age?</td>\n",
       "      <td>All</td>\n",
       "    </tr>\n",
       "    <tr>\n",
       "      <th>4</th>\n",
       "      <td>EmploymentStatus</td>\n",
       "      <td>What's your current employment status?</td>\n",
       "      <td>All</td>\n",
       "    </tr>\n",
       "  </tbody>\n",
       "</table>\n",
       "</div>"
      ],
      "text/plain": [
       "             Column                                           Question Asked\n",
       "0      GenderSelect     Select your gender identity. - Selected Choice   All\n",
       "1    GenderFreeForm  Select your gender identity. - A different ide...   All\n",
       "2           Country          Select the country you currently live in.   All\n",
       "3               Age                                   What's your age?   All\n",
       "4  EmploymentStatus             What's your current employment status?   All"
      ]
     },
     "execution_count": 3,
     "metadata": {},
     "output_type": "execute_result"
    }
   ],
   "source": [
    "question.head()"
   ]
  },
  {
   "cell_type": "code",
   "execution_count": 4,
   "metadata": {},
   "outputs": [
    {
     "data": {
      "text/plain": [
       "(16716, 228)"
      ]
     },
     "execution_count": 4,
     "metadata": {},
     "output_type": "execute_result"
    }
   ],
   "source": [
    "mcq = pd.read_csv('data/multipleChoiceResponses.csv',encoding=\"ISO-8859-1\", low_memory=False)\n",
    "mcq.shape"
   ]
  },
  {
   "cell_type": "markdown",
   "metadata": {},
   "source": [
    "응답 수가 16716개 인 것을 확인"
   ]
  },
  {
   "cell_type": "code",
   "execution_count": 5,
   "metadata": {},
   "outputs": [
    {
     "data": {
      "text/plain": [
       "Index(['GenderSelect', 'Country', 'Age', 'EmploymentStatus', 'StudentStatus',\n",
       "       'LearningDataScience', 'CodeWriter', 'CareerSwitcher',\n",
       "       'CurrentJobTitleSelect', 'TitleFit',\n",
       "       ...\n",
       "       'JobFactorExperienceLevel', 'JobFactorDepartment', 'JobFactorTitle',\n",
       "       'JobFactorCompanyFunding', 'JobFactorImpact', 'JobFactorRemote',\n",
       "       'JobFactorIndustry', 'JobFactorLeaderReputation', 'JobFactorDiversity',\n",
       "       'JobFactorPublishingOpportunity'],\n",
       "      dtype='object', length=228)"
      ]
     },
     "execution_count": 5,
     "metadata": {},
     "output_type": "execute_result"
    }
   ],
   "source": [
    "mcq.columns"
   ]
  },
  {
   "cell_type": "code",
   "execution_count": 6,
   "metadata": {},
   "outputs": [
    {
     "data": {
      "text/html": [
       "<div>\n",
       "<style scoped>\n",
       "    .dataframe tbody tr th:only-of-type {\n",
       "        vertical-align: middle;\n",
       "    }\n",
       "\n",
       "    .dataframe tbody tr th {\n",
       "        vertical-align: top;\n",
       "    }\n",
       "\n",
       "    .dataframe thead th {\n",
       "        text-align: right;\n",
       "    }\n",
       "</style>\n",
       "<table border=\"1\" class=\"dataframe\">\n",
       "  <thead>\n",
       "    <tr style=\"text-align: right;\">\n",
       "      <th></th>\n",
       "      <th>GenderSelect</th>\n",
       "      <th>Country</th>\n",
       "      <th>Age</th>\n",
       "      <th>EmploymentStatus</th>\n",
       "      <th>StudentStatus</th>\n",
       "      <th>LearningDataScience</th>\n",
       "      <th>CodeWriter</th>\n",
       "      <th>CareerSwitcher</th>\n",
       "      <th>CurrentJobTitleSelect</th>\n",
       "      <th>TitleFit</th>\n",
       "      <th>...</th>\n",
       "      <th>JobFactorExperienceLevel</th>\n",
       "      <th>JobFactorDepartment</th>\n",
       "      <th>JobFactorTitle</th>\n",
       "      <th>JobFactorCompanyFunding</th>\n",
       "      <th>JobFactorImpact</th>\n",
       "      <th>JobFactorRemote</th>\n",
       "      <th>JobFactorIndustry</th>\n",
       "      <th>JobFactorLeaderReputation</th>\n",
       "      <th>JobFactorDiversity</th>\n",
       "      <th>JobFactorPublishingOpportunity</th>\n",
       "    </tr>\n",
       "  </thead>\n",
       "  <tbody>\n",
       "    <tr>\n",
       "      <th>16711</th>\n",
       "      <td>Female</td>\n",
       "      <td>Other</td>\n",
       "      <td>24.0</td>\n",
       "      <td>Not employed, but looking for work</td>\n",
       "      <td>NaN</td>\n",
       "      <td>NaN</td>\n",
       "      <td>NaN</td>\n",
       "      <td>NaN</td>\n",
       "      <td>NaN</td>\n",
       "      <td>NaN</td>\n",
       "      <td>...</td>\n",
       "      <td>NaN</td>\n",
       "      <td>NaN</td>\n",
       "      <td>NaN</td>\n",
       "      <td>NaN</td>\n",
       "      <td>NaN</td>\n",
       "      <td>NaN</td>\n",
       "      <td>NaN</td>\n",
       "      <td>NaN</td>\n",
       "      <td>NaN</td>\n",
       "      <td>NaN</td>\n",
       "    </tr>\n",
       "    <tr>\n",
       "      <th>16712</th>\n",
       "      <td>Male</td>\n",
       "      <td>Indonesia</td>\n",
       "      <td>25.0</td>\n",
       "      <td>Employed full-time</td>\n",
       "      <td>NaN</td>\n",
       "      <td>NaN</td>\n",
       "      <td>Yes</td>\n",
       "      <td>NaN</td>\n",
       "      <td>Programmer</td>\n",
       "      <td>Fine</td>\n",
       "      <td>...</td>\n",
       "      <td>NaN</td>\n",
       "      <td>NaN</td>\n",
       "      <td>NaN</td>\n",
       "      <td>NaN</td>\n",
       "      <td>NaN</td>\n",
       "      <td>NaN</td>\n",
       "      <td>NaN</td>\n",
       "      <td>NaN</td>\n",
       "      <td>NaN</td>\n",
       "      <td>NaN</td>\n",
       "    </tr>\n",
       "    <tr>\n",
       "      <th>16713</th>\n",
       "      <td>Female</td>\n",
       "      <td>Taiwan</td>\n",
       "      <td>25.0</td>\n",
       "      <td>Employed part-time</td>\n",
       "      <td>NaN</td>\n",
       "      <td>NaN</td>\n",
       "      <td>No</td>\n",
       "      <td>Yes</td>\n",
       "      <td>NaN</td>\n",
       "      <td>NaN</td>\n",
       "      <td>...</td>\n",
       "      <td>NaN</td>\n",
       "      <td>NaN</td>\n",
       "      <td>NaN</td>\n",
       "      <td>NaN</td>\n",
       "      <td>NaN</td>\n",
       "      <td>NaN</td>\n",
       "      <td>NaN</td>\n",
       "      <td>NaN</td>\n",
       "      <td>NaN</td>\n",
       "      <td>NaN</td>\n",
       "    </tr>\n",
       "    <tr>\n",
       "      <th>16714</th>\n",
       "      <td>Female</td>\n",
       "      <td>Singapore</td>\n",
       "      <td>16.0</td>\n",
       "      <td>I prefer not to say</td>\n",
       "      <td>Yes</td>\n",
       "      <td>Yes, but data science is a small part of what ...</td>\n",
       "      <td>NaN</td>\n",
       "      <td>NaN</td>\n",
       "      <td>NaN</td>\n",
       "      <td>NaN</td>\n",
       "      <td>...</td>\n",
       "      <td>NaN</td>\n",
       "      <td>NaN</td>\n",
       "      <td>NaN</td>\n",
       "      <td>NaN</td>\n",
       "      <td>NaN</td>\n",
       "      <td>NaN</td>\n",
       "      <td>NaN</td>\n",
       "      <td>NaN</td>\n",
       "      <td>NaN</td>\n",
       "      <td>NaN</td>\n",
       "    </tr>\n",
       "    <tr>\n",
       "      <th>16715</th>\n",
       "      <td>Male</td>\n",
       "      <td>Japan</td>\n",
       "      <td>27.0</td>\n",
       "      <td>Employed full-time</td>\n",
       "      <td>NaN</td>\n",
       "      <td>NaN</td>\n",
       "      <td>No</td>\n",
       "      <td>Yes</td>\n",
       "      <td>Programmer</td>\n",
       "      <td>Fine</td>\n",
       "      <td>...</td>\n",
       "      <td>NaN</td>\n",
       "      <td>NaN</td>\n",
       "      <td>NaN</td>\n",
       "      <td>NaN</td>\n",
       "      <td>NaN</td>\n",
       "      <td>NaN</td>\n",
       "      <td>NaN</td>\n",
       "      <td>NaN</td>\n",
       "      <td>NaN</td>\n",
       "      <td>NaN</td>\n",
       "    </tr>\n",
       "  </tbody>\n",
       "</table>\n",
       "<p>5 rows × 228 columns</p>\n",
       "</div>"
      ],
      "text/plain": [
       "      GenderSelect    Country   Age                    EmploymentStatus  \\\n",
       "16711       Female      Other  24.0  Not employed, but looking for work   \n",
       "16712         Male  Indonesia  25.0                  Employed full-time   \n",
       "16713       Female     Taiwan  25.0                  Employed part-time   \n",
       "16714       Female  Singapore  16.0                 I prefer not to say   \n",
       "16715         Male      Japan  27.0                  Employed full-time   \n",
       "\n",
       "      StudentStatus                                LearningDataScience  \\\n",
       "16711           NaN                                                NaN   \n",
       "16712           NaN                                                NaN   \n",
       "16713           NaN                                                NaN   \n",
       "16714           Yes  Yes, but data science is a small part of what ...   \n",
       "16715           NaN                                                NaN   \n",
       "\n",
       "      CodeWriter CareerSwitcher CurrentJobTitleSelect TitleFit  ...  \\\n",
       "16711        NaN            NaN                   NaN      NaN  ...   \n",
       "16712        Yes            NaN            Programmer     Fine  ...   \n",
       "16713         No            Yes                   NaN      NaN  ...   \n",
       "16714        NaN            NaN                   NaN      NaN  ...   \n",
       "16715         No            Yes            Programmer     Fine  ...   \n",
       "\n",
       "      JobFactorExperienceLevel JobFactorDepartment JobFactorTitle  \\\n",
       "16711                      NaN                 NaN            NaN   \n",
       "16712                      NaN                 NaN            NaN   \n",
       "16713                      NaN                 NaN            NaN   \n",
       "16714                      NaN                 NaN            NaN   \n",
       "16715                      NaN                 NaN            NaN   \n",
       "\n",
       "      JobFactorCompanyFunding JobFactorImpact JobFactorRemote  \\\n",
       "16711                     NaN             NaN             NaN   \n",
       "16712                     NaN             NaN             NaN   \n",
       "16713                     NaN             NaN             NaN   \n",
       "16714                     NaN             NaN             NaN   \n",
       "16715                     NaN             NaN             NaN   \n",
       "\n",
       "      JobFactorIndustry JobFactorLeaderReputation JobFactorDiversity  \\\n",
       "16711               NaN                       NaN                NaN   \n",
       "16712               NaN                       NaN                NaN   \n",
       "16713               NaN                       NaN                NaN   \n",
       "16714               NaN                       NaN                NaN   \n",
       "16715               NaN                       NaN                NaN   \n",
       "\n",
       "      JobFactorPublishingOpportunity  \n",
       "16711                            NaN  \n",
       "16712                            NaN  \n",
       "16713                            NaN  \n",
       "16714                            NaN  \n",
       "16715                            NaN  \n",
       "\n",
       "[5 rows x 228 columns]"
      ]
     },
     "execution_count": 6,
     "metadata": {},
     "output_type": "execute_result"
    }
   ],
   "source": [
    "mcq.tail()"
   ]
  },
  {
   "cell_type": "code",
   "execution_count": 7,
   "metadata": {},
   "outputs": [
    {
     "name": "stdout",
     "output_type": "stream",
     "text": [
      "Collecting missingno\n",
      "  Downloading missingno-0.5.0-py3-none-any.whl (8.8 kB)\n",
      "Requirement already satisfied: matplotlib in c:\\conda\\lib\\site-packages (from missingno) (3.3.2)\n",
      "Requirement already satisfied: seaborn in c:\\conda\\lib\\site-packages (from missingno) (0.11.0)\n",
      "Requirement already satisfied: numpy in c:\\conda\\lib\\site-packages (from missingno) (1.19.2)\n",
      "Requirement already satisfied: scipy in c:\\conda\\lib\\site-packages (from missingno) (1.5.2)\n",
      "Requirement already satisfied: pyparsing!=2.0.4,!=2.1.2,!=2.1.6,>=2.0.3 in c:\\conda\\lib\\site-packages (from matplotlib->missingno) (2.4.7)\n",
      "Requirement already satisfied: kiwisolver>=1.0.1 in c:\\conda\\lib\\site-packages (from matplotlib->missingno) (1.3.0)\n",
      "Requirement already satisfied: certifi>=2020.06.20 in c:\\conda\\lib\\site-packages (from matplotlib->missingno) (2020.6.20)\n",
      "Requirement already satisfied: python-dateutil>=2.1 in c:\\conda\\lib\\site-packages (from matplotlib->missingno) (2.8.1)\n",
      "Requirement already satisfied: pillow>=6.2.0 in c:\\conda\\lib\\site-packages (from matplotlib->missingno) (8.0.1)\n",
      "Requirement already satisfied: cycler>=0.10 in c:\\conda\\lib\\site-packages (from matplotlib->missingno) (0.10.0)\n",
      "Requirement already satisfied: pandas>=0.23 in c:\\conda\\lib\\site-packages (from seaborn->missingno) (1.1.3)\n",
      "Requirement already satisfied: six>=1.5 in c:\\conda\\lib\\site-packages (from python-dateutil>=2.1->matplotlib->missingno) (1.15.0)\n",
      "Requirement already satisfied: pytz>=2017.2 in c:\\conda\\lib\\site-packages (from pandas>=0.23->seaborn->missingno) (2020.1)\n",
      "Installing collected packages: missingno\n",
      "Successfully installed missingno-0.5.0\n"
     ]
    }
   ],
   "source": [
    "# missingno 모듈 설치\n",
    "!pip install missingno"
   ]
  },
  {
   "cell_type": "code",
   "execution_count": 8,
   "metadata": {},
   "outputs": [
    {
     "data": {
      "text/plain": [
       "<AxesSubplot:>"
      ]
     },
     "execution_count": 8,
     "metadata": {},
     "output_type": "execute_result"
    },
    {
     "data": {
      "image/png": "[encoded data removed]",
      "text/plain": [
       "<Figure size 864x360 with 2 Axes>"
      ]
     },
     "metadata": {
      "needs_background": "light"
     },
     "output_type": "display_data"
    }
   ],
   "source": [
    "# missingno -> NaN 데이터들에 대해 시각화\n",
    "# NaN 데이터의 컬럼이 많아 아래 그래프만으로는 내용을 파악하기 어렵다.\n",
    "import missingno as msno\n",
    "\n",
    "# 시각화(흰 공간이 NaN 데이터)\n",
    "msno.matrix(mcq, figsize=(12,5))"
   ]
  },
  {
   "cell_type": "markdown",
   "metadata": {},
   "source": [
    "# 성별에 따라 그래프 그리기(use countplot)"
   ]
  },
  {
   "cell_type": "code",
   "execution_count": 9,
   "metadata": {},
   "outputs": [
    {
     "data": {
      "text/plain": [
       "<AxesSubplot:xlabel='count', ylabel='GenderSelect'>"
      ]
     },
     "execution_count": 9,
     "metadata": {},
     "output_type": "execute_result"
    },
    {
     "data": {
      "image/png": "[encoded data removed]",
      "text/plain": [
       "<Figure size 432x288 with 1 Axes>"
      ]
     },
     "metadata": {
      "needs_background": "light"
     },
     "output_type": "display_data"
    }
   ],
   "source": [
    "# y축이 범례가 된다, y -> x로 하면 x축이 범례\n",
    "sns.countplot(y=\"GenderSelect\",data=mcq)"
   ]
  },
  {
   "cell_type": "markdown",
   "metadata": {},
   "source": [
    "남성의 응답수가 훨씬 높음"
   ]
  },
  {
   "cell_type": "markdown",
   "metadata": {},
   "source": [
    "# Country를 기준으로 분석"
   ]
  },
  {
   "cell_type": "code",
   "execution_count": 10,
   "metadata": {},
   "outputs": [
    {
     "data": {
      "text/plain": [
       "count             16595\n",
       "unique               52\n",
       "top       United States\n",
       "freq               4197\n",
       "Name: Country, dtype: object"
      ]
     },
     "execution_count": 10,
     "metadata": {},
     "output_type": "execute_result"
    }
   ],
   "source": [
    "# describe는 해당 column의 대략적인 정보를 보여줌\n",
    "mcq[\"Country\"].describe()"
   ]
  },
  {
   "cell_type": "code",
   "execution_count": 11,
   "metadata": {},
   "outputs": [
    {
     "data": {
      "text/html": [
       "<div>\n",
       "<style scoped>\n",
       "    .dataframe tbody tr th:only-of-type {\n",
       "        vertical-align: middle;\n",
       "    }\n",
       "\n",
       "    .dataframe tbody tr th {\n",
       "        vertical-align: top;\n",
       "    }\n",
       "\n",
       "    .dataframe thead th {\n",
       "        text-align: right;\n",
       "    }\n",
       "</style>\n",
       "<table border=\"1\" class=\"dataframe\">\n",
       "  <thead>\n",
       "    <tr style=\"text-align: right;\">\n",
       "      <th></th>\n",
       "      <th>응답수</th>\n",
       "      <th>국가</th>\n",
       "    </tr>\n",
       "  </thead>\n",
       "  <tbody>\n",
       "    <tr>\n",
       "      <th>0</th>\n",
       "      <td>4197</td>\n",
       "      <td>United States</td>\n",
       "    </tr>\n",
       "    <tr>\n",
       "      <th>1</th>\n",
       "      <td>2704</td>\n",
       "      <td>India</td>\n",
       "    </tr>\n",
       "    <tr>\n",
       "      <th>2</th>\n",
       "      <td>1023</td>\n",
       "      <td>Other</td>\n",
       "    </tr>\n",
       "    <tr>\n",
       "      <th>3</th>\n",
       "      <td>578</td>\n",
       "      <td>Russia</td>\n",
       "    </tr>\n",
       "    <tr>\n",
       "      <th>4</th>\n",
       "      <td>535</td>\n",
       "      <td>United Kingdom</td>\n",
       "    </tr>\n",
       "    <tr>\n",
       "      <th>5</th>\n",
       "      <td>471</td>\n",
       "      <td>People 's Republic of China</td>\n",
       "    </tr>\n",
       "    <tr>\n",
       "      <th>6</th>\n",
       "      <td>465</td>\n",
       "      <td>Brazil</td>\n",
       "    </tr>\n",
       "    <tr>\n",
       "      <th>7</th>\n",
       "      <td>460</td>\n",
       "      <td>Germany</td>\n",
       "    </tr>\n",
       "    <tr>\n",
       "      <th>8</th>\n",
       "      <td>442</td>\n",
       "      <td>France</td>\n",
       "    </tr>\n",
       "    <tr>\n",
       "      <th>9</th>\n",
       "      <td>440</td>\n",
       "      <td>Canada</td>\n",
       "    </tr>\n",
       "    <tr>\n",
       "      <th>10</th>\n",
       "      <td>421</td>\n",
       "      <td>Australia</td>\n",
       "    </tr>\n",
       "    <tr>\n",
       "      <th>11</th>\n",
       "      <td>320</td>\n",
       "      <td>Spain</td>\n",
       "    </tr>\n",
       "    <tr>\n",
       "      <th>12</th>\n",
       "      <td>277</td>\n",
       "      <td>Japan</td>\n",
       "    </tr>\n",
       "    <tr>\n",
       "      <th>13</th>\n",
       "      <td>254</td>\n",
       "      <td>Taiwan</td>\n",
       "    </tr>\n",
       "    <tr>\n",
       "      <th>14</th>\n",
       "      <td>238</td>\n",
       "      <td>Italy</td>\n",
       "    </tr>\n",
       "    <tr>\n",
       "      <th>15</th>\n",
       "      <td>205</td>\n",
       "      <td>Netherlands</td>\n",
       "    </tr>\n",
       "    <tr>\n",
       "      <th>16</th>\n",
       "      <td>196</td>\n",
       "      <td>Ukraine</td>\n",
       "    </tr>\n",
       "    <tr>\n",
       "      <th>17</th>\n",
       "      <td>194</td>\n",
       "      <td>South Korea</td>\n",
       "    </tr>\n",
       "    <tr>\n",
       "      <th>18</th>\n",
       "      <td>184</td>\n",
       "      <td>Singapore</td>\n",
       "    </tr>\n",
       "    <tr>\n",
       "      <th>19</th>\n",
       "      <td>184</td>\n",
       "      <td>Poland</td>\n",
       "    </tr>\n",
       "  </tbody>\n",
       "</table>\n",
       "</div>"
      ],
      "text/plain": [
       "     응답수                           국가\n",
       "0   4197                United States\n",
       "1   2704                        India\n",
       "2   1023                        Other\n",
       "3    578                       Russia\n",
       "4    535               United Kingdom\n",
       "5    471  People 's Republic of China\n",
       "6    465                       Brazil\n",
       "7    460                      Germany\n",
       "8    442                       France\n",
       "9    440                       Canada\n",
       "10   421                    Australia\n",
       "11   320                        Spain\n",
       "12   277                        Japan\n",
       "13   254                       Taiwan\n",
       "14   238                        Italy\n",
       "15   205                  Netherlands\n",
       "16   196                      Ukraine\n",
       "17   194                  South Korea\n",
       "18   184                    Singapore\n",
       "19   184                       Poland"
      ]
     },
     "execution_count": 11,
     "metadata": {},
     "output_type": "execute_result"
    }
   ],
   "source": [
    "# pandas를 사용하여 Country를 기준 index로 지정\n",
    "country_df = pd.DataFrame(mcq[\"Country\"].value_counts())\n",
    "\n",
    "# 해당 index와 같은 열을 '국가'라는 column으로 추가\n",
    "country_df['국가'] = country_df.index\n",
    "\n",
    "country_df.columns = ['응답수','국가']\n",
    "\n",
    "# 기존 인덱스 삭제\n",
    "country_df = country_df.reset_index().drop('index',axis=1)\n",
    "country_df.head(20)"
   ]
  },
  {
   "cell_type": "markdown",
   "metadata": {},
   "source": [
    "# 나이에 따라 그래프 그리기(use distplot)"
   ]
  },
  {
   "cell_type": "code",
   "execution_count": 12,
   "metadata": {},
   "outputs": [
    {
     "data": {
      "text/plain": [
       "<AxesSubplot:xlabel='Age', ylabel='Density'>"
      ]
     },
     "execution_count": 12,
     "metadata": {},
     "output_type": "execute_result"
    },
    {
     "data": {
      "image/png": "[encoded data removed]",
      "text/plain": [
       "<Figure size 432x288 with 1 Axes>"
      ]
     },
     "metadata": {
      "needs_background": "light"
     },
     "output_type": "display_data"
    }
   ],
   "source": [
    "# mask를 사용하여 age가 0보다 큰 값들만 사용\n",
    "sns.distplot(mcq[mcq[\"Age\"]>0][\"Age\"])"
   ]
  },
  {
   "cell_type": "markdown",
   "metadata": {},
   "source": [
    "# FormalEducation 그래프 그리기"
   ]
  },
  {
   "cell_type": "code",
   "execution_count": 13,
   "metadata": {},
   "outputs": [
    {
     "data": {
      "text/plain": [
       "<AxesSubplot:xlabel='count', ylabel='FormalEducation'>"
      ]
     },
     "execution_count": 13,
     "metadata": {},
     "output_type": "execute_result"
    },
    {
     "data": {
      "image/png": "[encoded data removed]",
      "text/plain": [
       "<Figure size 432x288 with 1 Axes>"
      ]
     },
     "metadata": {
      "needs_background": "light"
     },
     "output_type": "display_data"
    }
   ],
   "source": [
    "sns.countplot(y=\"FormalEducation\",data=mcq)"
   ]
  },
  {
   "cell_type": "markdown",
   "metadata": {},
   "source": [
    "# 전공에 따라 분석"
   ]
  },
  {
   "cell_type": "code",
   "execution_count": 14,
   "metadata": {},
   "outputs": [
    {
     "data": {
      "text/html": [
       "<div>\n",
       "<style scoped>\n",
       "    .dataframe tbody tr th:only-of-type {\n",
       "        vertical-align: middle;\n",
       "    }\n",
       "\n",
       "    .dataframe tbody tr th {\n",
       "        vertical-align: top;\n",
       "    }\n",
       "\n",
       "    .dataframe thead th {\n",
       "        text-align: right;\n",
       "    }\n",
       "</style>\n",
       "<table border=\"1\" class=\"dataframe\">\n",
       "  <thead>\n",
       "    <tr style=\"text-align: right;\">\n",
       "      <th></th>\n",
       "      <th>응답수</th>\n",
       "      <th>비율</th>\n",
       "    </tr>\n",
       "  </thead>\n",
       "  <tbody>\n",
       "    <tr>\n",
       "      <th>Computer Science</th>\n",
       "      <td>4397</td>\n",
       "      <td>33.107447</td>\n",
       "    </tr>\n",
       "    <tr>\n",
       "      <th>Mathematics or statistics</th>\n",
       "      <td>2220</td>\n",
       "      <td>16.715609</td>\n",
       "    </tr>\n",
       "    <tr>\n",
       "      <th>Engineering (non-computer focused)</th>\n",
       "      <td>1339</td>\n",
       "      <td>10.082072</td>\n",
       "    </tr>\n",
       "    <tr>\n",
       "      <th>Electrical Engineering</th>\n",
       "      <td>1303</td>\n",
       "      <td>9.811008</td>\n",
       "    </tr>\n",
       "    <tr>\n",
       "      <th>Other</th>\n",
       "      <td>848</td>\n",
       "      <td>6.385061</td>\n",
       "    </tr>\n",
       "    <tr>\n",
       "      <th>Physics</th>\n",
       "      <td>830</td>\n",
       "      <td>6.249529</td>\n",
       "    </tr>\n",
       "    <tr>\n",
       "      <th>Information technology, networking, or system administration</th>\n",
       "      <td>693</td>\n",
       "      <td>5.217981</td>\n",
       "    </tr>\n",
       "    <tr>\n",
       "      <th>A social science</th>\n",
       "      <td>531</td>\n",
       "      <td>3.998193</td>\n",
       "    </tr>\n",
       "    <tr>\n",
       "      <th>Biology</th>\n",
       "      <td>274</td>\n",
       "      <td>2.063098</td>\n",
       "    </tr>\n",
       "    <tr>\n",
       "      <th>Management information systems</th>\n",
       "      <td>237</td>\n",
       "      <td>1.784504</td>\n",
       "    </tr>\n",
       "    <tr>\n",
       "      <th>A humanities discipline</th>\n",
       "      <td>198</td>\n",
       "      <td>1.490852</td>\n",
       "    </tr>\n",
       "    <tr>\n",
       "      <th>A health science</th>\n",
       "      <td>152</td>\n",
       "      <td>1.144492</td>\n",
       "    </tr>\n",
       "    <tr>\n",
       "      <th>Psychology</th>\n",
       "      <td>137</td>\n",
       "      <td>1.031549</td>\n",
       "    </tr>\n",
       "    <tr>\n",
       "      <th>I never declared a major</th>\n",
       "      <td>65</td>\n",
       "      <td>0.489421</td>\n",
       "    </tr>\n",
       "    <tr>\n",
       "      <th>Fine arts or performing arts</th>\n",
       "      <td>57</td>\n",
       "      <td>0.429185</td>\n",
       "    </tr>\n",
       "  </tbody>\n",
       "</table>\n",
       "</div>"
      ],
      "text/plain": [
       "                                                     응답수         비율\n",
       "Computer Science                                    4397  33.107447\n",
       "Mathematics or statistics                           2220  16.715609\n",
       "Engineering (non-computer focused)                  1339  10.082072\n",
       "Electrical Engineering                              1303   9.811008\n",
       "Other                                                848   6.385061\n",
       "Physics                                              830   6.249529\n",
       "Information technology, networking, or system a...   693   5.217981\n",
       "A social science                                     531   3.998193\n",
       "Biology                                              274   2.063098\n",
       "Management information systems                       237   1.784504\n",
       "A humanities discipline                              198   1.490852\n",
       "A health science                                     152   1.144492\n",
       "Psychology                                           137   1.031549\n",
       "I never declared a major                              65   0.489421\n",
       "Fine arts or performing arts                          57   0.429185"
      ]
     },
     "execution_count": 14,
     "metadata": {},
     "output_type": "execute_result"
    }
   ],
   "source": [
    "mcq_major_count = pd.DataFrame(mcq[\"MajorSelect\"].value_counts())\n",
    "\n",
    "# 해당 값들을 정규화 하여 보여줌\n",
    "mcq_major_percent = pd.DataFrame(mcq[\"MajorSelect\"].value_counts(normalize=True))\n",
    "\n",
    "# merge를 사용하여 위 두개의 df를 하나로 합쳐줌\n",
    "mcq_major_df = mcq_major_count.merge(mcq_major_percent,left_index=True,right_index=True)\n",
    "mcq_major_df.columns = ['응답수','비율']\n",
    "mcq_major_df['비율'] = mcq_major_df['비율']*100\n",
    "mcq_major_df"
   ]
  },
  {
   "cell_type": "code",
   "execution_count": 15,
   "metadata": {},
   "outputs": [
    {
     "data": {
      "text/plain": [
       "<AxesSubplot:xlabel='count', ylabel='MajorSelect'>"
      ]
     },
     "execution_count": 15,
     "metadata": {},
     "output_type": "execute_result"
    },
    {
     "data": {
      "image/png": "[encoded data removed]",
      "text/plain": [
       "<Figure size 432x288 with 1 Axes>"
      ]
     },
     "metadata": {
      "needs_background": "light"
     },
     "output_type": "display_data"
    }
   ],
   "source": [
    "sns.countplot(y = \"MajorSelect\",data = mcq)"
   ]
  },
  {
   "cell_type": "markdown",
   "metadata": {},
   "source": [
    "# 현재 고용 상태에 따라 분석"
   ]
  },
  {
   "cell_type": "code",
   "execution_count": 16,
   "metadata": {},
   "outputs": [
    {
     "data": {
      "text/html": [
       "<div>\n",
       "<style scoped>\n",
       "    .dataframe tbody tr th:only-of-type {\n",
       "        vertical-align: middle;\n",
       "    }\n",
       "\n",
       "    .dataframe tbody tr th {\n",
       "        vertical-align: top;\n",
       "    }\n",
       "\n",
       "    .dataframe thead th {\n",
       "        text-align: right;\n",
       "    }\n",
       "</style>\n",
       "<table border=\"1\" class=\"dataframe\">\n",
       "  <thead>\n",
       "    <tr style=\"text-align: right;\">\n",
       "      <th></th>\n",
       "      <th>응답수</th>\n",
       "      <th>비율</th>\n",
       "    </tr>\n",
       "  </thead>\n",
       "  <tbody>\n",
       "    <tr>\n",
       "      <th>Employed full-time</th>\n",
       "      <td>10897</td>\n",
       "      <td>65.189040</td>\n",
       "    </tr>\n",
       "    <tr>\n",
       "      <th>Not employed, but looking for work</th>\n",
       "      <td>2110</td>\n",
       "      <td>12.622637</td>\n",
       "    </tr>\n",
       "    <tr>\n",
       "      <th>Independent contractor, freelancer, or self-employed</th>\n",
       "      <td>1330</td>\n",
       "      <td>7.956449</td>\n",
       "    </tr>\n",
       "    <tr>\n",
       "      <th>Not employed, and not looking for work</th>\n",
       "      <td>924</td>\n",
       "      <td>5.527638</td>\n",
       "    </tr>\n",
       "    <tr>\n",
       "      <th>Employed part-time</th>\n",
       "      <td>917</td>\n",
       "      <td>5.485762</td>\n",
       "    </tr>\n",
       "    <tr>\n",
       "      <th>I prefer not to say</th>\n",
       "      <td>420</td>\n",
       "      <td>2.512563</td>\n",
       "    </tr>\n",
       "    <tr>\n",
       "      <th>Retired</th>\n",
       "      <td>118</td>\n",
       "      <td>0.705911</td>\n",
       "    </tr>\n",
       "  </tbody>\n",
       "</table>\n",
       "</div>"
      ],
      "text/plain": [
       "                                                      응답수         비율\n",
       "Employed full-time                                  10897  65.189040\n",
       "Not employed, but looking for work                   2110  12.622637\n",
       "Independent contractor, freelancer, or self-emp...   1330   7.956449\n",
       "Not employed, and not looking for work                924   5.527638\n",
       "Employed part-time                                    917   5.485762\n",
       "I prefer not to say                                   420   2.512563\n",
       "Retired                                               118   0.705911"
      ]
     },
     "execution_count": 16,
     "metadata": {},
     "output_type": "execute_result"
    }
   ],
   "source": [
    "mcq_es_count = pd.DataFrame(mcq[\"EmploymentStatus\"].value_counts())\n",
    "\n",
    "# 해당 값들을 정규화 하여 보여줌\n",
    "mcq_es_percent = pd.DataFrame(mcq[\"EmploymentStatus\"].value_counts(normalize=True))\n",
    "\n",
    "# merge를 사용하여 위 두개의 df를 하나로 합쳐줌\n",
    "mcq_es_df = mcq_es_count.merge(mcq_es_percent,left_index=True,right_index=True)\n",
    "mcq_es_df.columns = ['응답수','비율']\n",
    "mcq_es_df['비율'] = mcq_es_df['비율']*100\n",
    "mcq_es_df"
   ]
  },
  {
   "cell_type": "code",
   "execution_count": 17,
   "metadata": {},
   "outputs": [
    {
     "data": {
      "text/plain": [
       "<AxesSubplot:xlabel='count', ylabel='EmploymentStatus'>"
      ]
     },
     "execution_count": 17,
     "metadata": {},
     "output_type": "execute_result"
    },
    {
     "data": {
      "image/png": "[encoded data removed]",
      "text/plain": [
       "<Figure size 432x288 with 1 Axes>"
      ]
     },
     "metadata": {
      "needs_background": "light"
     },
     "output_type": "display_data"
    }
   ],
   "source": [
    "sns.countplot(y=\"EmploymentStatus\",data = mcq)"
   ]
  },
  {
   "cell_type": "markdown",
   "metadata": {},
   "source": [
    "# 코딩 경험 여부"
   ]
  },
  {
   "cell_type": "code",
   "execution_count": 18,
   "metadata": {},
   "outputs": [
    {
     "data": {
      "text/plain": [
       "<AxesSubplot:xlabel='count', ylabel='Tenure'>"
      ]
     },
     "execution_count": 18,
     "metadata": {},
     "output_type": "execute_result"
    },
    {
     "data": {
      "image/png": "[encoded data removed]",
      "text/plain": [
       "<Figure size 432x288 with 1 Axes>"
      ]
     },
     "metadata": {
      "needs_background": "light"
     },
     "output_type": "display_data"
    }
   ],
   "source": [
    "sns.countplot(y='Tenure', data=mcq)"
   ]
  },
  {
   "cell_type": "markdown",
   "metadata": {},
   "source": [
    "# 한국의 결과 분석"
   ]
  },
  {
   "cell_type": "code",
   "execution_count": 19,
   "metadata": {},
   "outputs": [
    {
     "data": {
      "image/png": "[encoded data removed]",
      "text/plain": [
       "<Figure size 432x288 with 1 Axes>"
      ]
     },
     "metadata": {
      "needs_background": "light"
     },
     "output_type": "display_data"
    }
   ],
   "source": [
    "kor = mcq.loc[mcq['Country']==\"South Korea\"]\n",
    "\n",
    "# dropna() -> NaN 데이터 삭제\n",
    "sns.distplot(kor[\"Age\"].dropna())\n",
    "plt.title(f\"Korean (The number of interviewees: {kor.shape[0]})\")\n",
    "plt.show()"
   ]
  },
  {
   "cell_type": "code",
   "execution_count": 20,
   "metadata": {},
   "outputs": [
    {
     "data": {
      "text/html": [
       "<div>\n",
       "<style scoped>\n",
       "    .dataframe tbody tr th:only-of-type {\n",
       "        vertical-align: middle;\n",
       "    }\n",
       "\n",
       "    .dataframe tbody tr th {\n",
       "        vertical-align: top;\n",
       "    }\n",
       "\n",
       "    .dataframe thead th {\n",
       "        text-align: right;\n",
       "    }\n",
       "</style>\n",
       "<table border=\"1\" class=\"dataframe\">\n",
       "  <thead>\n",
       "    <tr style=\"text-align: right;\">\n",
       "      <th></th>\n",
       "      <th>GenderSelect</th>\n",
       "    </tr>\n",
       "  </thead>\n",
       "  <tbody>\n",
       "    <tr>\n",
       "      <th>Male</th>\n",
       "      <td>156</td>\n",
       "    </tr>\n",
       "    <tr>\n",
       "      <th>Female</th>\n",
       "      <td>37</td>\n",
       "    </tr>\n",
       "    <tr>\n",
       "      <th>A different identity</th>\n",
       "      <td>1</td>\n",
       "    </tr>\n",
       "  </tbody>\n",
       "</table>\n",
       "</div>"
      ],
      "text/plain": [
       "                      GenderSelect\n",
       "Male                           156\n",
       "Female                          37\n",
       "A different identity             1"
      ]
     },
     "execution_count": 20,
     "metadata": {},
     "output_type": "execute_result"
    },
    {
     "data": {
      "image/png": "[encoded data removed]",
      "text/plain": [
       "<Figure size 432x288 with 1 Axes>"
      ]
     },
     "metadata": {
      "needs_background": "light"
     },
     "output_type": "display_data"
    }
   ],
   "source": [
    "sns.countplot(y=\"GenderSelect\",data=kor)\n",
    "pd.DataFrame(kor[\"GenderSelect\"].value_counts())"
   ]
  },
  {
   "cell_type": "code",
   "execution_count": 21,
   "metadata": {},
   "outputs": [
    {
     "data": {
      "image/png": "[encoded data removed]",
      "text/plain": [
       "<Figure size 864x360 with 2 Axes>"
      ]
     },
     "metadata": {
      "needs_background": "light"
     },
     "output_type": "display_data"
    }
   ],
   "source": [
    "# 한개의 figure에 2개의 graph 그리기\n",
    "figure, (ax1, ax2) = plt.subplots(ncols=2)\n",
    "\n",
    "figure.set_size_inches(12,5)\n",
    "sns.distplot(kor['Age'].loc[kor['GenderSelect']=='Female'].dropna(),color=sns.color_palette(\"Paired\")[4], ax=ax1)\n",
    "ax1.set_title('korean Female')\n",
    "\n",
    "sns.distplot(kor['Age'].loc[kor['GenderSelect']=='Male'].dropna(),color=sns.color_palette(\"Paired\")[0], ax=ax2)\n",
    "ax2.set_title('korean Male')\n",
    "plt.show()"
   ]
  },
  {
   "cell_type": "code",
   "execution_count": 22,
   "metadata": {},
   "outputs": [
    {
     "data": {
      "text/plain": [
       "count                    194\n",
       "unique                     7\n",
       "top       Employed full-time\n",
       "freq                     116\n",
       "Name: EmploymentStatus, dtype: object"
      ]
     },
     "execution_count": 22,
     "metadata": {},
     "output_type": "execute_result"
    }
   ],
   "source": [
    "kor['EmploymentStatus'].describe()"
   ]
  },
  {
   "cell_type": "code",
   "execution_count": 23,
   "metadata": {},
   "outputs": [
    {
     "data": {
      "image/png": "[encoded data removed]",
      "text/plain": [
       "<Figure size 432x288 with 1 Axes>"
      ]
     },
     "metadata": {
      "needs_background": "light"
     },
     "output_type": "display_data"
    },
    {
     "data": {
      "image/png": "[encoded data removed]",
      "text/plain": [
       "<Figure size 432x288 with 1 Axes>"
      ]
     },
     "metadata": {
      "needs_background": "light"
     },
     "output_type": "display_data"
    },
    {
     "data": {
      "text/plain": [
       "Employed full-time                                      116\n",
       "Not employed, but looking for work                       34\n",
       "Not employed, and not looking for work                   15\n",
       "Independent contractor, freelancer, or self-employed     13\n",
       "I prefer not to say                                       8\n",
       "Employed part-time                                        7\n",
       "Retired                                                   1\n",
       "Name: EmploymentStatus, dtype: int64"
      ]
     },
     "execution_count": 23,
     "metadata": {},
     "output_type": "execute_result"
    }
   ],
   "source": [
    "# 밑에 방법은 value_counts()의 결과 순서대로 들어가기 때문에, column값과 일치하지 않는다.\n",
    "sns.barplot(x=kor[\"EmploymentStatus\"].unique(), y=kor[\"EmploymentStatus\"].value_counts())\n",
    "plt.xticks(rotation=30, ha='right')\n",
    "plt.title('Employment status of the korean')\n",
    "plt.ylabel('%')\n",
    "plt.show()\n",
    "\n",
    "# countplot을 사용하는게 더 정확\n",
    "sns.countplot(x= kor[\"EmploymentStatus\"].dropna(),data = kor)\n",
    "plt.xticks(rotation=30, ha='right')\n",
    "plt.title('Employment status of the korean')\n",
    "plt.show()\n",
    "\n",
    "# 값 직접 확인해보기\n",
    "kor['EmploymentStatus'].value_counts()"
   ]
  },
  {
   "cell_type": "markdown",
   "metadata": {},
   "source": [
    "# 자주 묻는 질문 FAQ"
   ]
  },
  {
   "cell_type": "code",
   "execution_count": 24,
   "metadata": {},
   "outputs": [
    {
     "data": {
      "text/plain": [
       "<AxesSubplot:xlabel='count', ylabel='LanguageRecommendationSelect'>"
      ]
     },
     "execution_count": 24,
     "metadata": {},
     "output_type": "execute_result"
    },
    {
     "data": {
      "image/png": "[encoded data removed]",
      "text/plain": [
       "<Figure size 432x288 with 1 Axes>"
      ]
     },
     "metadata": {
      "needs_background": "light"
     },
     "output_type": "display_data"
    }
   ],
   "source": [
    "sns.countplot(y=\"LanguageRecommendationSelect\",data=mcq)"
   ]
  },
  {
   "cell_type": "markdown",
   "metadata": {},
   "source": [
    "파이썬을 가장 선호"
   ]
  },
  {
   "cell_type": "code",
   "execution_count": 25,
   "metadata": {},
   "outputs": [
    {
     "data": {
      "text/plain": [
       "<AxesSubplot:xlabel='count', ylabel='CurrentJobTitleSelect'>"
      ]
     },
     "execution_count": 25,
     "metadata": {},
     "output_type": "execute_result"
    },
    {
     "data": {
      "image/png": "[encoded data removed]",
      "text/plain": [
       "<Figure size 432x288 with 1 Axes>"
      ]
     },
     "metadata": {
      "needs_background": "light"
     },
     "output_type": "display_data"
    }
   ],
   "source": [
    "sns.countplot(y=\"CurrentJobTitleSelect\",data=mcq,order =mcq.CurrentJobTitleSelect.value_counts().index)"
   ]
  },
  {
   "cell_type": "markdown",
   "metadata": {},
   "source": [
    "데이터 사이언티스트가 가장 많음"
   ]
  },
  {
   "cell_type": "code",
   "execution_count": 26,
   "metadata": {},
   "outputs": [
    {
     "name": "stdout",
     "output_type": "stream",
     "text": [
      "총11830명\n",
      "count              11830\n",
      "unique                16\n",
      "top       Data Scientist\n",
      "freq                2433\n",
      "Name: CurrentJobTitleSelect, dtype: object\n"
     ]
    }
   ],
   "source": [
    "# 대답 없는 경우 생략\n",
    "print(f\"총{mcq[mcq['CurrentJobTitleSelect'].notnull()]['CurrentJobTitleSelect'].shape[0]}명\")\n",
    "print(mcq['CurrentJobTitleSelect'].describe())"
   ]
  },
  {
   "cell_type": "markdown",
   "metadata": {},
   "source": [
    "# 파이썬과 R을 사용하는 사람 통계"
   ]
  },
  {
   "cell_type": "markdown",
   "metadata": {},
   "source": [
    "### Q1. Python과 R중 어떤 언어를 배워야 할까요?"
   ]
  },
  {
   "cell_type": "code",
   "execution_count": 27,
   "metadata": {},
   "outputs": [
    {
     "data": {
      "text/plain": [
       "<AxesSubplot:xlabel='count', ylabel='CurrentJobTitleSelect'>"
      ]
     },
     "execution_count": 27,
     "metadata": {},
     "output_type": "execute_result"
    },
    {
     "data": {
      "image/png": "[encoded data removed]",
      "text/plain": [
       "<Figure size 864x360 with 1 Axes>"
      ]
     },
     "metadata": {
      "needs_background": "light"
     },
     "output_type": "display_data"
    }
   ],
   "source": [
    "# mask를 사용하여 조건 설정\n",
    "data = mcq[(mcq['CurrentJobTitleSelect'].notnull()) & ((mcq['LanguageRecommendationSelect']==\"Python\") | (mcq['LanguageRecommendationSelect']==\"R\"))]\n",
    "\n",
    "plt.figure(figsize=(12,5))\n",
    "sns.countplot(y=\"CurrentJobTitleSelect\",hue=\"LanguageRecommendationSelect\",data=data)"
   ]
  },
  {
   "cell_type": "markdown",
   "metadata": {},
   "source": [
    "### Q2. 데이터 사이언스 분야에서 앞으로 크게 주목받을 것은 무엇일까요?"
   ]
  },
  {
   "cell_type": "code",
   "execution_count": 28,
   "metadata": {},
   "outputs": [
    {
     "data": {
      "text/html": [
       "<div>\n",
       "<style scoped>\n",
       "    .dataframe tbody tr th:only-of-type {\n",
       "        vertical-align: middle;\n",
       "    }\n",
       "\n",
       "    .dataframe tbody tr th {\n",
       "        vertical-align: top;\n",
       "    }\n",
       "\n",
       "    .dataframe thead th {\n",
       "        text-align: right;\n",
       "    }\n",
       "</style>\n",
       "<table border=\"1\" class=\"dataframe\">\n",
       "  <thead>\n",
       "    <tr style=\"text-align: right;\">\n",
       "      <th>Tool</th>\n",
       "      <th>응답 수</th>\n",
       "      <th>비율</th>\n",
       "    </tr>\n",
       "  </thead>\n",
       "  <tbody>\n",
       "    <tr>\n",
       "      <th>TensorFlow</th>\n",
       "      <td>2621</td>\n",
       "      <td>0.238316</td>\n",
       "    </tr>\n",
       "    <tr>\n",
       "      <th>Python</th>\n",
       "      <td>1713</td>\n",
       "      <td>0.155756</td>\n",
       "    </tr>\n",
       "    <tr>\n",
       "      <th>R</th>\n",
       "      <td>910</td>\n",
       "      <td>0.082742</td>\n",
       "    </tr>\n",
       "    <tr>\n",
       "      <th>Spark / MLlib</th>\n",
       "      <td>755</td>\n",
       "      <td>0.068649</td>\n",
       "    </tr>\n",
       "    <tr>\n",
       "      <th>Hadoop/Hive/Pig</th>\n",
       "      <td>417</td>\n",
       "      <td>0.037916</td>\n",
       "    </tr>\n",
       "    <tr>\n",
       "      <th>Other</th>\n",
       "      <td>407</td>\n",
       "      <td>0.037007</td>\n",
       "    </tr>\n",
       "    <tr>\n",
       "      <th>Amazon Machine Learning</th>\n",
       "      <td>392</td>\n",
       "      <td>0.035643</td>\n",
       "    </tr>\n",
       "    <tr>\n",
       "      <th>Jupyter notebooks</th>\n",
       "      <td>358</td>\n",
       "      <td>0.032551</td>\n",
       "    </tr>\n",
       "    <tr>\n",
       "      <th>I don't plan on learning a new tool/technology</th>\n",
       "      <td>341</td>\n",
       "      <td>0.031006</td>\n",
       "    </tr>\n",
       "    <tr>\n",
       "      <th>Google Cloud Compute</th>\n",
       "      <td>296</td>\n",
       "      <td>0.026914</td>\n",
       "    </tr>\n",
       "    <tr>\n",
       "      <th>Amazon Web services</th>\n",
       "      <td>273</td>\n",
       "      <td>0.024823</td>\n",
       "    </tr>\n",
       "    <tr>\n",
       "      <th>Julia</th>\n",
       "      <td>222</td>\n",
       "      <td>0.020185</td>\n",
       "    </tr>\n",
       "    <tr>\n",
       "      <th>DataRobot</th>\n",
       "      <td>220</td>\n",
       "      <td>0.020004</td>\n",
       "    </tr>\n",
       "    <tr>\n",
       "      <th>Microsoft Azure Machine Learning</th>\n",
       "      <td>220</td>\n",
       "      <td>0.020004</td>\n",
       "    </tr>\n",
       "    <tr>\n",
       "      <th>IBM Watson / Waton Analytics</th>\n",
       "      <td>194</td>\n",
       "      <td>0.017640</td>\n",
       "    </tr>\n",
       "    <tr>\n",
       "      <th>C/C++</th>\n",
       "      <td>186</td>\n",
       "      <td>0.016912</td>\n",
       "    </tr>\n",
       "    <tr>\n",
       "      <th>Tableau</th>\n",
       "      <td>150</td>\n",
       "      <td>0.013639</td>\n",
       "    </tr>\n",
       "    <tr>\n",
       "      <th>SQL</th>\n",
       "      <td>138</td>\n",
       "      <td>0.012548</td>\n",
       "    </tr>\n",
       "    <tr>\n",
       "      <th>Java</th>\n",
       "      <td>116</td>\n",
       "      <td>0.010547</td>\n",
       "    </tr>\n",
       "    <tr>\n",
       "      <th>MATLAB/Octave</th>\n",
       "      <td>115</td>\n",
       "      <td>0.010456</td>\n",
       "    </tr>\n",
       "  </tbody>\n",
       "</table>\n",
       "</div>"
      ],
      "text/plain": [
       "Tool                                            응답 수        비율\n",
       "TensorFlow                                      2621  0.238316\n",
       "Python                                          1713  0.155756\n",
       "R                                                910  0.082742\n",
       "Spark / MLlib                                    755  0.068649\n",
       "Hadoop/Hive/Pig                                  417  0.037916\n",
       "Other                                            407  0.037007\n",
       "Amazon Machine Learning                          392  0.035643\n",
       "Jupyter notebooks                                358  0.032551\n",
       "I don't plan on learning a new tool/technology   341  0.031006\n",
       "Google Cloud Compute                             296  0.026914\n",
       "Amazon Web services                              273  0.024823\n",
       "Julia                                            222  0.020185\n",
       "DataRobot                                        220  0.020004\n",
       "Microsoft Azure Machine Learning                 220  0.020004\n",
       "IBM Watson / Waton Analytics                     194  0.017640\n",
       "C/C++                                            186  0.016912\n",
       "Tableau                                          150  0.013639\n",
       "SQL                                              138  0.012548\n",
       "Java                                             116  0.010547\n",
       "MATLAB/Octave                                    115  0.010456"
      ]
     },
     "execution_count": 28,
     "metadata": {},
     "output_type": "execute_result"
    }
   ],
   "source": [
    "mcq_ml_tool_count = pd.DataFrame(mcq['MLToolNextYearSelect'].value_counts())\n",
    "mcq_ml_tool_percent = pd.DataFrame(mcq['MLToolNextYearSelect'].value_counts(normalize=True))\n",
    "mcq_ml_tool_df = mcq_ml_tool_count.merge(mcq_ml_tool_percent,left_index=True,right_index=True).head(20)\n",
    "\n",
    "mcq_ml_tool_df.columns = [\"응답 수\",\"비율\"]\n",
    "mcq_ml_tool_df.columns.name = \"Tool\"\n",
    "mcq_ml_tool_df"
   ]
  },
  {
   "cell_type": "markdown",
   "metadata": {},
   "source": [
    "텐서플로우를 내년에 가장 흥미로운 기술이 될 것이라 응답"
   ]
  },
  {
   "cell_type": "code",
   "execution_count": 29,
   "metadata": {},
   "outputs": [
    {
     "data": {
      "text/plain": [
       "<AxesSubplot:xlabel='응답 수'>"
      ]
     },
     "execution_count": 29,
     "metadata": {},
     "output_type": "execute_result"
    },
    {
     "data": {
      "image/png": "[encoded data removed]",
      "text/plain": [
       "<Figure size 432x288 with 1 Axes>"
      ]
     },
     "metadata": {
      "needs_background": "light"
     },
     "output_type": "display_data"
    }
   ],
   "source": [
    "sns.barplot(y=mcq_ml_tool_df.index,x=mcq_ml_tool_df[\"응답 수\"])"
   ]
  },
  {
   "cell_type": "markdown",
   "metadata": {},
   "source": [
    "### 다음 해에 주목할 만한 Data Science Methods"
   ]
  },
  {
   "cell_type": "code",
   "execution_count": 30,
   "metadata": {},
   "outputs": [
    {
     "data": {
      "text/plain": [
       "<AxesSubplot:xlabel='count', ylabel='MLMethodNextYearSelect'>"
      ]
     },
     "execution_count": 30,
     "metadata": {},
     "output_type": "execute_result"
    },
    {
     "data": {
      "image/png": "[encoded data removed]",
      "text/plain": [
       "<Figure size 432x288 with 1 Axes>"
      ]
     },
     "metadata": {
      "needs_background": "light"
     },
     "output_type": "display_data"
    }
   ],
   "source": [
    "# countplot으로 상위 15개 불러오기\n",
    "sns.countplot(y=\"MLMethodNextYearSelect\",data=mcq,order=mcq.MLMethodNextYearSelect.value_counts().iloc[:15].index)"
   ]
  },
  {
   "cell_type": "markdown",
   "metadata": {},
   "source": [
    "# Q3. 어디에서 데이터 사이언스를 배워야할까요?"
   ]
  },
  {
   "cell_type": "code",
   "execution_count": 31,
   "metadata": {},
   "outputs": [
    {
     "data": {
      "text/html": [
       "<div>\n",
       "<style scoped>\n",
       "    .dataframe tbody tr th:only-of-type {\n",
       "        vertical-align: middle;\n",
       "    }\n",
       "\n",
       "    .dataframe tbody tr th {\n",
       "        vertical-align: top;\n",
       "    }\n",
       "\n",
       "    .dataframe thead th {\n",
       "        text-align: right;\n",
       "    }\n",
       "</style>\n",
       "<table border=\"1\" class=\"dataframe\">\n",
       "  <thead>\n",
       "    <tr style=\"text-align: right;\">\n",
       "      <th></th>\n",
       "      <th>LearningPlatformSelect</th>\n",
       "    </tr>\n",
       "  </thead>\n",
       "  <tbody>\n",
       "    <tr>\n",
       "      <th>0</th>\n",
       "      <td>College/University,Conferences,Podcasts,Trade ...</td>\n",
       "    </tr>\n",
       "    <tr>\n",
       "      <th>1</th>\n",
       "      <td>Kaggle</td>\n",
       "    </tr>\n",
       "    <tr>\n",
       "      <th>2</th>\n",
       "      <td>Arxiv,College/University,Kaggle,Online courses...</td>\n",
       "    </tr>\n",
       "    <tr>\n",
       "      <th>3</th>\n",
       "      <td>Blogs,College/University,Conferences,Friends n...</td>\n",
       "    </tr>\n",
       "    <tr>\n",
       "      <th>4</th>\n",
       "      <td>Arxiv,Conferences,Kaggle,Textbook</td>\n",
       "    </tr>\n",
       "    <tr>\n",
       "      <th>...</th>\n",
       "      <td>...</td>\n",
       "    </tr>\n",
       "    <tr>\n",
       "      <th>16664</th>\n",
       "      <td>Arxiv,College/University,Kaggle,Personal Proje...</td>\n",
       "    </tr>\n",
       "    <tr>\n",
       "      <th>16681</th>\n",
       "      <td>Arxiv,Conferences,Kaggle,Online courses,Person...</td>\n",
       "    </tr>\n",
       "    <tr>\n",
       "      <th>16687</th>\n",
       "      <td>Blogs,Conferences,Kaggle,Online courses,YouTub...</td>\n",
       "    </tr>\n",
       "    <tr>\n",
       "      <th>16704</th>\n",
       "      <td>College/University,Conferences,Friends network...</td>\n",
       "    </tr>\n",
       "    <tr>\n",
       "      <th>16712</th>\n",
       "      <td>Kaggle,Non-Kaggle online communities,Online co...</td>\n",
       "    </tr>\n",
       "  </tbody>\n",
       "</table>\n",
       "<p>11271 rows × 1 columns</p>\n",
       "</div>"
      ],
      "text/plain": [
       "                                  LearningPlatformSelect\n",
       "0      College/University,Conferences,Podcasts,Trade ...\n",
       "1                                                 Kaggle\n",
       "2      Arxiv,College/University,Kaggle,Online courses...\n",
       "3      Blogs,College/University,Conferences,Friends n...\n",
       "4                      Arxiv,Conferences,Kaggle,Textbook\n",
       "...                                                  ...\n",
       "16664  Arxiv,College/University,Kaggle,Personal Proje...\n",
       "16681  Arxiv,Conferences,Kaggle,Online courses,Person...\n",
       "16687  Blogs,Conferences,Kaggle,Online courses,YouTub...\n",
       "16704  College/University,Conferences,Friends network...\n",
       "16712  Kaggle,Non-Kaggle online communities,Online co...\n",
       "\n",
       "[11271 rows x 1 columns]"
      ]
     },
     "execution_count": 31,
     "metadata": {},
     "output_type": "execute_result"
    }
   ],
   "source": [
    "pd.DataFrame(mcq['LearningPlatformSelect'].dropna())"
   ]
  },
  {
   "cell_type": "markdown",
   "metadata": {},
   "source": [
    "각 값이 ',' 로 구분 돼있으므로, 나눠주는 작업을 해야함"
   ]
  },
  {
   "cell_type": "code",
   "execution_count": 33,
   "metadata": {},
   "outputs": [
    {
     "data": {
      "text/plain": [
       "0        College/University\n",
       "0               Conferences\n",
       "0                  Podcasts\n",
       "0                Trade book\n",
       "1                    Kaggle\n",
       "                ...        \n",
       "16712    Stack Overflow Q&A\n",
       "16712        YouTube Videos\n",
       "16713                   nan\n",
       "16714                   nan\n",
       "16715                   nan\n",
       "Name: platform, Length: 61904, dtype: object"
      ]
     },
     "execution_count": 33,
     "metadata": {},
     "output_type": "execute_result"
    }
   ],
   "source": [
    "mcq = pd.read_csv('data/multipleChoiceResponses.csv',encoding=\"ISO-8859-1\", low_memory=False)\n",
    "mcq['LearningPlatformSelect'] = mcq['LearningPlatformSelect'].astype('str').apply(lambda x: x.split(','))\n",
    "\n",
    "s = mcq.apply(\n",
    "    lambda x: pd.Series(x['LearningPlatformSelect']),\n",
    "    axis=1).stack().reset_index(level=1, drop=True)\n",
    "s.name = 'platform'\n",
    "s"
   ]
  },
  {
   "cell_type": "markdown",
   "metadata": {},
   "source": [
    "> stack,apply,reset_index 다시 공부하기"
   ]
  },
  {
   "cell_type": "code",
   "execution_count": 34,
   "metadata": {},
   "outputs": [
    {
     "data": {
      "text/plain": [
       "<AxesSubplot:xlabel='platform'>"
      ]
     },
     "execution_count": 34,
     "metadata": {},
     "output_type": "execute_result"
    },
    {
     "data": {
      "image/png": "[encoded data removed]",
      "text/plain": [
       "<Figure size 432x576 with 1 Axes>"
      ]
     },
     "metadata": {
      "needs_background": "light"
     },
     "output_type": "display_data"
    }
   ],
   "source": [
    "plt.figure(figsize=(6,8))\n",
    "\n",
    "# 위에서 nan도 str으로 강제 형변환 해주어 dropna 메소드 사용 불가\n",
    "data = s[s!='nan'].value_counts().head(15)\n",
    "sns.barplot(y=data.index, x=data)"
   ]
  },
  {
   "cell_type": "code",
   "execution_count": 35,
   "metadata": {},
   "outputs": [
    {
     "data": {
      "text/plain": [
       "18"
      ]
     },
     "execution_count": 35,
     "metadata": {},
     "output_type": "execute_result"
    }
   ],
   "source": [
    "use_features = [x for x in mcq.columns if x.find('LearningPlatformUsefulness')!= -1]\n",
    "len(use_features)"
   ]
  },
  {
   "cell_type": "markdown",
   "metadata": {},
   "source": [
    "Learning Platform 설문에 사용된 Platform이 총 18개임을 확인"
   ]
  },
  {
   "cell_type": "code",
   "execution_count": 36,
   "metadata": {},
   "outputs": [
    {
     "data": {
      "text/html": [
       "<div>\n",
       "<style scoped>\n",
       "    .dataframe tbody tr th:only-of-type {\n",
       "        vertical-align: middle;\n",
       "    }\n",
       "\n",
       "    .dataframe tbody tr th {\n",
       "        vertical-align: top;\n",
       "    }\n",
       "\n",
       "    .dataframe thead th {\n",
       "        text-align: right;\n",
       "    }\n",
       "</style>\n",
       "<table border=\"1\" class=\"dataframe\">\n",
       "  <thead>\n",
       "    <tr style=\"text-align: right;\">\n",
       "      <th></th>\n",
       "      <th>Arxiv</th>\n",
       "      <th>Blogs</th>\n",
       "      <th>College</th>\n",
       "      <th>Company</th>\n",
       "      <th>Conferences</th>\n",
       "      <th>Friends</th>\n",
       "      <th>Kaggle</th>\n",
       "      <th>Newsletters</th>\n",
       "      <th>Communities</th>\n",
       "      <th>Documentation</th>\n",
       "      <th>Courses</th>\n",
       "      <th>Projects</th>\n",
       "      <th>Podcasts</th>\n",
       "      <th>SO</th>\n",
       "      <th>Textbook</th>\n",
       "      <th>TradeBook</th>\n",
       "      <th>Tutoring</th>\n",
       "      <th>YouTube</th>\n",
       "    </tr>\n",
       "    <tr>\n",
       "      <th>usefulness</th>\n",
       "      <th></th>\n",
       "      <th></th>\n",
       "      <th></th>\n",
       "      <th></th>\n",
       "      <th></th>\n",
       "      <th></th>\n",
       "      <th></th>\n",
       "      <th></th>\n",
       "      <th></th>\n",
       "      <th></th>\n",
       "      <th></th>\n",
       "      <th></th>\n",
       "      <th></th>\n",
       "      <th></th>\n",
       "      <th></th>\n",
       "      <th></th>\n",
       "      <th></th>\n",
       "      <th></th>\n",
       "    </tr>\n",
       "  </thead>\n",
       "  <tbody>\n",
       "    <tr>\n",
       "      <th>Not Useful</th>\n",
       "      <td>0.015475</td>\n",
       "      <td>0.009444</td>\n",
       "      <td>0.030068</td>\n",
       "      <td>0.041794</td>\n",
       "      <td>0.054537</td>\n",
       "      <td>0.032258</td>\n",
       "      <td>0.008507</td>\n",
       "      <td>0.051423</td>\n",
       "      <td>0.014011</td>\n",
       "      <td>0.018096</td>\n",
       "      <td>0.007844</td>\n",
       "      <td>0.008135</td>\n",
       "      <td>0.102142</td>\n",
       "      <td>0.011348</td>\n",
       "      <td>0.016503</td>\n",
       "      <td>0.027027</td>\n",
       "      <td>0.022440</td>\n",
       "      <td>0.019889</td>\n",
       "    </tr>\n",
       "    <tr>\n",
       "      <th>Somewhat useful</th>\n",
       "      <td>0.434128</td>\n",
       "      <td>0.504932</td>\n",
       "      <td>0.418279</td>\n",
       "      <td>0.511723</td>\n",
       "      <td>0.598075</td>\n",
       "      <td>0.489564</td>\n",
       "      <td>0.372323</td>\n",
       "      <td>0.629936</td>\n",
       "      <td>0.496497</td>\n",
       "      <td>0.459716</td>\n",
       "      <td>0.292056</td>\n",
       "      <td>0.247184</td>\n",
       "      <td>0.673806</td>\n",
       "      <td>0.362411</td>\n",
       "      <td>0.429562</td>\n",
       "      <td>0.486486</td>\n",
       "      <td>0.399018</td>\n",
       "      <td>0.498183</td>\n",
       "    </tr>\n",
       "    <tr>\n",
       "      <th>Very useful</th>\n",
       "      <td>0.550397</td>\n",
       "      <td>0.485624</td>\n",
       "      <td>0.551652</td>\n",
       "      <td>0.446483</td>\n",
       "      <td>0.347388</td>\n",
       "      <td>0.478178</td>\n",
       "      <td>0.619171</td>\n",
       "      <td>0.318641</td>\n",
       "      <td>0.489492</td>\n",
       "      <td>0.522189</td>\n",
       "      <td>0.700100</td>\n",
       "      <td>0.744681</td>\n",
       "      <td>0.224053</td>\n",
       "      <td>0.626241</td>\n",
       "      <td>0.553934</td>\n",
       "      <td>0.486486</td>\n",
       "      <td>0.578541</td>\n",
       "      <td>0.481928</td>\n",
       "    </tr>\n",
       "  </tbody>\n",
       "</table>\n",
       "</div>"
      ],
      "text/plain": [
       "                    Arxiv     Blogs   College   Company  Conferences  \\\n",
       "usefulness                                                             \n",
       "Not Useful       0.015475  0.009444  0.030068  0.041794     0.054537   \n",
       "Somewhat useful  0.434128  0.504932  0.418279  0.511723     0.598075   \n",
       "Very useful      0.550397  0.485624  0.551652  0.446483     0.347388   \n",
       "\n",
       "                  Friends    Kaggle  Newsletters  Communities  Documentation  \\\n",
       "usefulness                                                                     \n",
       "Not Useful       0.032258  0.008507     0.051423     0.014011       0.018096   \n",
       "Somewhat useful  0.489564  0.372323     0.629936     0.496497       0.459716   \n",
       "Very useful      0.478178  0.619171     0.318641     0.489492       0.522189   \n",
       "\n",
       "                  Courses  Projects  Podcasts        SO  Textbook  TradeBook  \\\n",
       "usefulness                                                                     \n",
       "Not Useful       0.007844  0.008135  0.102142  0.011348  0.016503   0.027027   \n",
       "Somewhat useful  0.292056  0.247184  0.673806  0.362411  0.429562   0.486486   \n",
       "Very useful      0.700100  0.744681  0.224053  0.626241  0.553934   0.486486   \n",
       "\n",
       "                 Tutoring   YouTube  \n",
       "usefulness                           \n",
       "Not Useful       0.022440  0.019889  \n",
       "Somewhat useful  0.399018  0.498183  \n",
       "Very useful      0.578541  0.481928  "
      ]
     },
     "execution_count": 36,
     "metadata": {},
     "output_type": "execute_result"
    }
   ],
   "source": [
    "# 학습플랫폼별로 유용함에대한 연관성 분석\n",
    "fdf = {}\n",
    "\n",
    "for feature in use_features:\n",
    "    tmp = mcq[feature].value_counts()\n",
    "    tmp = tmp/tmp.sum()\n",
    "    fdf[feature.replace('LearningPlatformUsefulness','')] = tmp\n",
    "fdf = pd.DataFrame(fdf)\n",
    "fdf.index.name=\"usefulness\"\n",
    "fdf"
   ]
  },
  {
   "cell_type": "markdown",
   "metadata": {},
   "source": [
    "유용한 순서가 중요하기 때문에 very useful 기준으로 정렬"
   ]
  },
  {
   "cell_type": "code",
   "execution_count": 37,
   "metadata": {},
   "outputs": [
    {
     "data": {
      "text/html": [
       "<div>\n",
       "<style scoped>\n",
       "    .dataframe tbody tr th:only-of-type {\n",
       "        vertical-align: middle;\n",
       "    }\n",
       "\n",
       "    .dataframe tbody tr th {\n",
       "        vertical-align: top;\n",
       "    }\n",
       "\n",
       "    .dataframe thead th {\n",
       "        text-align: right;\n",
       "    }\n",
       "</style>\n",
       "<table border=\"1\" class=\"dataframe\">\n",
       "  <thead>\n",
       "    <tr style=\"text-align: right;\">\n",
       "      <th>usefulness</th>\n",
       "      <th>Not Useful</th>\n",
       "      <th>Somewhat useful</th>\n",
       "      <th>Very useful</th>\n",
       "    </tr>\n",
       "  </thead>\n",
       "  <tbody>\n",
       "    <tr>\n",
       "      <th>Projects</th>\n",
       "      <td>0.008135</td>\n",
       "      <td>0.247184</td>\n",
       "      <td>0.744681</td>\n",
       "    </tr>\n",
       "    <tr>\n",
       "      <th>Courses</th>\n",
       "      <td>0.007844</td>\n",
       "      <td>0.292056</td>\n",
       "      <td>0.700100</td>\n",
       "    </tr>\n",
       "    <tr>\n",
       "      <th>SO</th>\n",
       "      <td>0.011348</td>\n",
       "      <td>0.362411</td>\n",
       "      <td>0.626241</td>\n",
       "    </tr>\n",
       "    <tr>\n",
       "      <th>Kaggle</th>\n",
       "      <td>0.008507</td>\n",
       "      <td>0.372323</td>\n",
       "      <td>0.619171</td>\n",
       "    </tr>\n",
       "    <tr>\n",
       "      <th>Tutoring</th>\n",
       "      <td>0.022440</td>\n",
       "      <td>0.399018</td>\n",
       "      <td>0.578541</td>\n",
       "    </tr>\n",
       "    <tr>\n",
       "      <th>Textbook</th>\n",
       "      <td>0.016503</td>\n",
       "      <td>0.429562</td>\n",
       "      <td>0.553934</td>\n",
       "    </tr>\n",
       "    <tr>\n",
       "      <th>College</th>\n",
       "      <td>0.030068</td>\n",
       "      <td>0.418279</td>\n",
       "      <td>0.551652</td>\n",
       "    </tr>\n",
       "    <tr>\n",
       "      <th>Arxiv</th>\n",
       "      <td>0.015475</td>\n",
       "      <td>0.434128</td>\n",
       "      <td>0.550397</td>\n",
       "    </tr>\n",
       "    <tr>\n",
       "      <th>Documentation</th>\n",
       "      <td>0.018096</td>\n",
       "      <td>0.459716</td>\n",
       "      <td>0.522189</td>\n",
       "    </tr>\n",
       "    <tr>\n",
       "      <th>Communities</th>\n",
       "      <td>0.014011</td>\n",
       "      <td>0.496497</td>\n",
       "      <td>0.489492</td>\n",
       "    </tr>\n",
       "    <tr>\n",
       "      <th>TradeBook</th>\n",
       "      <td>0.027027</td>\n",
       "      <td>0.486486</td>\n",
       "      <td>0.486486</td>\n",
       "    </tr>\n",
       "    <tr>\n",
       "      <th>Blogs</th>\n",
       "      <td>0.009444</td>\n",
       "      <td>0.504932</td>\n",
       "      <td>0.485624</td>\n",
       "    </tr>\n",
       "    <tr>\n",
       "      <th>YouTube</th>\n",
       "      <td>0.019889</td>\n",
       "      <td>0.498183</td>\n",
       "      <td>0.481928</td>\n",
       "    </tr>\n",
       "    <tr>\n",
       "      <th>Friends</th>\n",
       "      <td>0.032258</td>\n",
       "      <td>0.489564</td>\n",
       "      <td>0.478178</td>\n",
       "    </tr>\n",
       "    <tr>\n",
       "      <th>Company</th>\n",
       "      <td>0.041794</td>\n",
       "      <td>0.511723</td>\n",
       "      <td>0.446483</td>\n",
       "    </tr>\n",
       "    <tr>\n",
       "      <th>Conferences</th>\n",
       "      <td>0.054537</td>\n",
       "      <td>0.598075</td>\n",
       "      <td>0.347388</td>\n",
       "    </tr>\n",
       "    <tr>\n",
       "      <th>Newsletters</th>\n",
       "      <td>0.051423</td>\n",
       "      <td>0.629936</td>\n",
       "      <td>0.318641</td>\n",
       "    </tr>\n",
       "    <tr>\n",
       "      <th>Podcasts</th>\n",
       "      <td>0.102142</td>\n",
       "      <td>0.673806</td>\n",
       "      <td>0.224053</td>\n",
       "    </tr>\n",
       "  </tbody>\n",
       "</table>\n",
       "</div>"
      ],
      "text/plain": [
       "usefulness     Not Useful  Somewhat useful  Very useful\n",
       "Projects         0.008135         0.247184     0.744681\n",
       "Courses          0.007844         0.292056     0.700100\n",
       "SO               0.011348         0.362411     0.626241\n",
       "Kaggle           0.008507         0.372323     0.619171\n",
       "Tutoring         0.022440         0.399018     0.578541\n",
       "Textbook         0.016503         0.429562     0.553934\n",
       "College          0.030068         0.418279     0.551652\n",
       "Arxiv            0.015475         0.434128     0.550397\n",
       "Documentation    0.018096         0.459716     0.522189\n",
       "Communities      0.014011         0.496497     0.489492\n",
       "TradeBook        0.027027         0.486486     0.486486\n",
       "Blogs            0.009444         0.504932     0.485624\n",
       "YouTube          0.019889         0.498183     0.481928\n",
       "Friends          0.032258         0.489564     0.478178\n",
       "Company          0.041794         0.511723     0.446483\n",
       "Conferences      0.054537         0.598075     0.347388\n",
       "Newsletters      0.051423         0.629936     0.318641\n",
       "Podcasts         0.102142         0.673806     0.224053"
      ]
     },
     "execution_count": 37,
     "metadata": {},
     "output_type": "execute_result"
    }
   ],
   "source": [
    "fdf = fdf.transpose().sort_values('Very useful',ascending=False)\n",
    "fdf"
   ]
  },
  {
   "cell_type": "markdown",
   "metadata": {},
   "source": [
    "Projects가 가장 유용하다고 생각, 이를 hitmap으로 그려보기"
   ]
  },
  {
   "cell_type": "code",
   "execution_count": 38,
   "metadata": {},
   "outputs": [
    {
     "data": {
      "text/plain": [
       "<AxesSubplot:xlabel='usefulness'>"
      ]
     },
     "execution_count": 38,
     "metadata": {},
     "output_type": "execute_result"
    },
    {
     "data": {
      "image/png": "[encoded data removed]",
      "text/plain": [
       "<Figure size 720x720 with 2 Axes>"
      ]
     },
     "metadata": {
      "needs_background": "light"
     },
     "output_type": "display_data"
    }
   ],
   "source": [
    "plt.figure(figsize=(10,10))\n",
    "sns.heatmap(fdf, annot=True)"
   ]
  },
  {
   "cell_type": "code",
   "execution_count": 39,
   "metadata": {},
   "outputs": [
    {
     "data": {
      "image/png": "[encoded data removed]",
      "text/plain": [
       "<Figure size 1440x576 with 1 Axes>"
      ]
     },
     "metadata": {
      "needs_background": "light"
     },
     "output_type": "display_data"
    }
   ],
   "source": [
    "fdf.plot(kind='bar', figsize=(20,8),title=\"Usefullness of Learning Platforms\")\n",
    "plt.xticks(rotation=60, ha='right')\n",
    "plt.show()"
   ]
  },
  {
   "cell_type": "markdown",
   "metadata": {},
   "source": [
    "분석 결과 프로젝트를 해보는것이 가장 유용하다고 생각하고, 팟캐스트를 이용하는 것이 어느정도 유용하다고 생각"
   ]
  },
  {
   "cell_type": "code",
   "execution_count": 40,
   "metadata": {},
   "outputs": [
    {
     "data": {
      "text/plain": [
       "['LearningCategorySelftTaught',\n",
       " 'LearningCategoryOnlineCourses',\n",
       " 'LearningCategoryWork',\n",
       " 'LearningCategoryUniversity',\n",
       " 'LearningCategoryKaggle',\n",
       " 'LearningCategoryOther']"
      ]
     },
     "execution_count": 40,
     "metadata": {},
     "output_type": "execute_result"
    }
   ],
   "source": [
    "use_features = [x for x in mcq.columns if x.find('LearningCategory')!= -1]\n",
    "use_features"
   ]
  },
  {
   "cell_type": "markdown",
   "metadata": {},
   "source": [
    "학습 방법에 대한 조사 분석"
   ]
  },
  {
   "cell_type": "code",
   "execution_count": 41,
   "metadata": {},
   "outputs": [
    {
     "data": {
      "text/plain": [
       "SelftTaught      33.366771\n",
       "OnlineCourses    27.375514\n",
       "Work             15.217593\n",
       "University       16.988607\n",
       "Kaggle            5.531434\n",
       "Other             1.795940\n",
       "dtype: float64"
      ]
     },
     "execution_count": 41,
     "metadata": {},
     "output_type": "execute_result"
    }
   ],
   "source": [
    "cdf = {}\n",
    "for feature in use_features:\n",
    "    cdf[feature.replace('LearningCategory','')] = mcq[feature].mean()\n",
    "cdf=pd.Series(cdf)\n",
    "cdf"
   ]
  },
  {
   "cell_type": "code",
   "execution_count": 42,
   "metadata": {},
   "outputs": [
    {
     "data": {
      "image/png": "[encoded data removed]",
      "text/plain": [
       "<Figure size 432x288 with 1 Axes>"
      ]
     },
     "metadata": {},
     "output_type": "display_data"
    }
   ],
   "source": [
    "plt.pie(cdf,labels = cdf.index,autopct='%1.1f%%',shadow=True)\n",
    "plt.axis('equal')\n",
    "plt.title(\"Contribution of each Platform to Learning\")\n",
    "plt.show()"
   ]
  },
  {
   "cell_type": "markdown",
   "metadata": {},
   "source": [
    "# Q4. 데이터과학을 위해 높은 사양의 컴퓨터가 필요한가요?"
   ]
  },
  {
   "cell_type": "code",
   "execution_count": 43,
   "metadata": {},
   "outputs": [
    {
     "data": {
      "text/html": [
       "<div>\n",
       "<style scoped>\n",
       "    .dataframe tbody tr th:only-of-type {\n",
       "        vertical-align: middle;\n",
       "    }\n",
       "\n",
       "    .dataframe tbody tr th {\n",
       "        vertical-align: top;\n",
       "    }\n",
       "\n",
       "    .dataframe thead th {\n",
       "        text-align: right;\n",
       "    }\n",
       "</style>\n",
       "<table border=\"1\" class=\"dataframe\">\n",
       "  <thead>\n",
       "    <tr style=\"text-align: right;\">\n",
       "      <th></th>\n",
       "      <th>Column</th>\n",
       "      <th>Question</th>\n",
       "      <th>Asked</th>\n",
       "    </tr>\n",
       "  </thead>\n",
       "  <tbody>\n",
       "    <tr>\n",
       "      <th>74</th>\n",
       "      <td>HardwarePersonalProjectsSelect</td>\n",
       "      <td>Which computing hardware do you use for your p...</td>\n",
       "      <td>Learners</td>\n",
       "    </tr>\n",
       "  </tbody>\n",
       "</table>\n",
       "</div>"
      ],
      "text/plain": [
       "                            Column  \\\n",
       "74  HardwarePersonalProjectsSelect   \n",
       "\n",
       "                                             Question     Asked  \n",
       "74  Which computing hardware do you use for your p...  Learners  "
      ]
     },
     "execution_count": 43,
     "metadata": {},
     "output_type": "execute_result"
    }
   ],
   "source": [
    "qc = question.loc[question[\"Column\"].str.contains(\"HardwarePersonalProjectsSelect\")]\n",
    "qc"
   ]
  },
  {
   "cell_type": "code",
   "execution_count": 49,
   "metadata": {},
   "outputs": [],
   "source": [
    "mcq[\"HardwarePersonalProjectsSelect\"].dropna()\n",
    "\n",
    "mcq = pd.read_csv('data/multipleChoiceResponses.csv',encoding=\"ISO-8859-1\", low_memory=False)\n",
    "mcq[\"HardwarePersonalProjectsSelect\"] = mcq[\"HardwarePersonalProjectsSelect\"].astype('str').apply(lambda x: x.split(','))\n",
    "\n",
    "h = mcq.apply(\n",
    "    lambda x: pd.Series(x[\"HardwarePersonalProjectsSelect\"]),\n",
    "    axis=1).stack().reset_index(level=1, drop=True)\n",
    "h.name = 'hardware'\n",
    "h = h[h!=\"nan\"]"
   ]
  },
  {
   "cell_type": "code",
   "execution_count": 50,
   "metadata": {},
   "outputs": [
    {
     "data": {
      "text/html": [
       "<div>\n",
       "<style scoped>\n",
       "    .dataframe tbody tr th:only-of-type {\n",
       "        vertical-align: middle;\n",
       "    }\n",
       "\n",
       "    .dataframe tbody tr th {\n",
       "        vertical-align: top;\n",
       "    }\n",
       "\n",
       "    .dataframe thead th {\n",
       "        text-align: right;\n",
       "    }\n",
       "</style>\n",
       "<table border=\"1\" class=\"dataframe\">\n",
       "  <thead>\n",
       "    <tr style=\"text-align: right;\">\n",
       "      <th></th>\n",
       "      <th>hardware</th>\n",
       "    </tr>\n",
       "  </thead>\n",
       "  <tbody>\n",
       "    <tr>\n",
       "      <th>Basic laptop (Macbook)</th>\n",
       "      <td>2246</td>\n",
       "    </tr>\n",
       "    <tr>\n",
       "      <th>Azure</th>\n",
       "      <td>669</td>\n",
       "    </tr>\n",
       "    <tr>\n",
       "      <th>GCE ...)</th>\n",
       "      <td>669</td>\n",
       "    </tr>\n",
       "    <tr>\n",
       "      <th>Laptop + Cloud service (AWS</th>\n",
       "      <td>669</td>\n",
       "    </tr>\n",
       "    <tr>\n",
       "      <th>Gaming Laptop (Laptop + CUDA capable GPU)</th>\n",
       "      <td>641</td>\n",
       "    </tr>\n",
       "    <tr>\n",
       "      <th>Traditional Workstation</th>\n",
       "      <td>527</td>\n",
       "    </tr>\n",
       "    <tr>\n",
       "      <th>Laptop or Workstation and local IT supported servers</th>\n",
       "      <td>445</td>\n",
       "    </tr>\n",
       "    <tr>\n",
       "      <th>GPU accelerated Workstation</th>\n",
       "      <td>416</td>\n",
       "    </tr>\n",
       "    <tr>\n",
       "      <th>Workstation + Cloud service</th>\n",
       "      <td>174</td>\n",
       "    </tr>\n",
       "    <tr>\n",
       "      <th>Other</th>\n",
       "      <td>147</td>\n",
       "    </tr>\n",
       "  </tbody>\n",
       "</table>\n",
       "</div>"
      ],
      "text/plain": [
       "                                                    hardware\n",
       "Basic laptop (Macbook)                                  2246\n",
       " Azure                                                   669\n",
       " GCE ...)                                                669\n",
       "Laptop + Cloud service (AWS                              669\n",
       "Gaming Laptop (Laptop + CUDA capable GPU)                641\n",
       "Traditional Workstation                                  527\n",
       "Laptop or Workstation and local IT supported se...       445\n",
       "GPU accelerated Workstation                              416\n",
       "Workstation + Cloud service                              174\n",
       "Other                                                    147"
      ]
     },
     "execution_count": 50,
     "metadata": {},
     "output_type": "execute_result"
    }
   ],
   "source": [
    "pd.DataFrame(h.value_counts())"
   ]
  },
  {
   "cell_type": "markdown",
   "metadata": {},
   "source": [
    "Basic Laptop이 가장 많았음 -> 성능 상관 없다"
   ]
  },
  {
   "cell_type": "markdown",
   "metadata": {},
   "source": [
    "# Q5. 데이터 사이언스 공부에 얼마나 많은 시간을 사용 하는지?"
   ]
  },
  {
   "cell_type": "code",
   "execution_count": 51,
   "metadata": {},
   "outputs": [
    {
     "data": {
      "text/plain": [
       "<AxesSubplot:xlabel='count', ylabel='TimeSpentStudying'>"
      ]
     },
     "execution_count": 51,
     "metadata": {},
     "output_type": "execute_result"
    },
    {
     "data": {
      "image/png": "[encoded data removed]",
      "text/plain": [
       "<Figure size 1080x576 with 1 Axes>"
      ]
     },
     "metadata": {
      "needs_background": "light"
     },
     "output_type": "display_data"
    }
   ],
   "source": [
    "plt.figure(figsize = (15,8))\n",
    "sns.countplot(y=\"TimeSpentStudying\",data=mcq,hue=\"EmploymentStatus\")"
   ]
  },
  {
   "cell_type": "code",
   "execution_count": 52,
   "metadata": {},
   "outputs": [
    {
     "data": {
      "image/png": "[encoded data removed]",
      "text/plain": [
       "<Figure size 864x360 with 2 Axes>"
      ]
     },
     "metadata": {
      "needs_background": "light"
     },
     "output_type": "display_data"
    }
   ],
   "source": [
    "figure, (ax1, ax2) = plt.subplots(ncols=2)\n",
    "\n",
    "figure.set_size_inches(12,5)\n",
    "sns.countplot(x='TimeSpentStudying', \n",
    "              data=mcq[mcq[\"EmploymentStatus\"]==\"Employed full-time\"],ax=ax1)\n",
    "ax1.set_title(\"Employed full-time\")\n",
    "\n",
    "sns.countplot(x='TimeSpentStudying', \n",
    "              data=mcq[mcq[\"EmploymentStatus\"]==\"Not employed, but looking for work\"], ax=ax2,)\n",
    "ax2.set_title(\"Not employed, but looking for work\")\n",
    "plt.show()"
   ]
  },
  {
   "cell_type": "markdown",
   "metadata": {},
   "source": [
    "full-time 근무중인 사람들과 구직중인 사람들 모두 2-10시간 정도 투자하고있음"
   ]
  },
  {
   "cell_type": "markdown",
   "metadata": {},
   "source": [
    "# Q6. 블로그, 팟캐스트, 수업, 기타 등등 추천할만한 것이 있는지?"
   ]
  },
  {
   "cell_type": "code",
   "execution_count": 63,
   "metadata": {},
   "outputs": [
    {
     "data": {
      "text/plain": [
       "0    [Becoming a Data Scientist Podcast, Data Machi...\n",
       "1    [Becoming a Data Scientist Podcast, Siraj Rava...\n",
       "2    [FastML Blog, No Free Hunch Blog, Talking Mach...\n",
       "3                                     [KDnuggets Blog]\n",
       "4    [Data Machina Newsletter, Jack's Import AI New...\n",
       "Name: BlogsPodcastsNewslettersSelect, dtype: object"
      ]
     },
     "execution_count": 63,
     "metadata": {},
     "output_type": "execute_result"
    }
   ],
   "source": [
    "mcq = pd.read_csv('data/multipleChoiceResponses.csv',encoding=\"ISO-8859-1\", low_memory=False)\n",
    "mcq['BlogsPodcastsNewslettersSelect'] = mcq['BlogsPodcastsNewslettersSelect'].astype('str').apply(lambda x:x.split(','))\n",
    "mcq['BlogsPodcastsNewslettersSelect'].head()"
   ]
  },
  {
   "cell_type": "code",
   "execution_count": 64,
   "metadata": {},
   "outputs": [
    {
     "data": {
      "text/plain": [
       "0    Becoming a Data Scientist Podcast\n",
       "0              Data Machina Newsletter\n",
       "0             O'Reilly Data Newsletter\n",
       "0         Partially Derivative Podcast\n",
       "0           R Bloggers Blog Aggregator\n",
       "Name: platforms, dtype: object"
      ]
     },
     "execution_count": 64,
     "metadata": {},
     "output_type": "execute_result"
    }
   ],
   "source": [
    "s = mcq.apply(lambda x:pd.Series(x['BlogsPodcastsNewslettersSelect']),axis=1).stack().reset_index(level=1,drop = True)\n",
    "s.name = 'platforms'\n",
    "s.head()"
   ]
  },
  {
   "cell_type": "code",
   "execution_count": 65,
   "metadata": {},
   "outputs": [
    {
     "data": {
      "text/plain": [
       "KDnuggets Blog                                       2650\n",
       "R Bloggers Blog Aggregator                           2046\n",
       "O'Reilly Data Newsletter                             1604\n",
       "Becoming a Data Scientist Podcast                    1299\n",
       "Other (Separate different answers with semicolon)    1296\n",
       "No Free Hunch Blog                                   1238\n",
       "Siraj Raval YouTube Channel                          1040\n",
       "FastML Blog                                           729\n",
       " and Social Science Blog (Andrew Gelman)              662\n",
       "Statistical Modeling                                  662\n",
       " Causal Inference                                     662\n",
       "Data Machina Newsletter                               660\n",
       "The Data Skeptic Podcast                              567\n",
       "Talking Machines Podcast                              473\n",
       "Data Elixir Newsletter                                447\n",
       "FlowingData Blog                                      392\n",
       "Linear Digressions Podcast                            369\n",
       "Data Stories Podcast                                  352\n",
       "Partially Derivative Podcast                          343\n",
       "DataTau News Aggregator                               212\n",
       "Jack's Import AI Newsletter                           212\n",
       "The Analytics Dispatch Newsletter                     194\n",
       "Emergent/Future Newsletter (Algorithmia)              109\n",
       "Name: platforms, dtype: int64"
      ]
     },
     "execution_count": 65,
     "metadata": {},
     "output_type": "execute_result"
    }
   ],
   "source": [
    "s = s[s!='nan'].value_counts()\n",
    "s"
   ]
  },
  {
   "cell_type": "code",
   "execution_count": 66,
   "metadata": {},
   "outputs": [
    {
     "data": {
      "text/plain": [
       "<AxesSubplot:xlabel='platforms'>"
      ]
     },
     "execution_count": 66,
     "metadata": {},
     "output_type": "execute_result"
    },
    {
     "data": {
      "image/png": "[encoded data removed]",
      "text/plain": [
       "<Figure size 864x576 with 1 Axes>"
      ]
     },
     "metadata": {
      "needs_background": "light"
     },
     "output_type": "display_data"
    }
   ],
   "source": [
    "plt.figure(figsize = (12,8))\n",
    "sns.barplot(y=s.index,x=s)"
   ]
  },
  {
   "cell_type": "code",
   "execution_count": 75,
   "metadata": {},
   "outputs": [
    {
     "data": {
      "text/plain": [
       "0              [nan]\n",
       "1              [nan]\n",
       "2    [Coursera, edX]\n",
       "3              [nan]\n",
       "4              [nan]\n",
       "Name: CoursePlatformSelect, dtype: object"
      ]
     },
     "execution_count": 75,
     "metadata": {},
     "output_type": "execute_result"
    }
   ],
   "source": [
    "mcq = pd.read_csv('data/multipleChoiceResponses.csv',encoding=\"ISO-8859-1\", low_memory=False)\n",
    "mcq['CoursePlatformSelect'] = mcq['CoursePlatformSelect'].astype('str').apply(lambda x:x.split(','))\n",
    "mcq['CoursePlatformSelect'].head()"
   ]
  },
  {
   "cell_type": "code",
   "execution_count": 81,
   "metadata": {},
   "outputs": [
    {
     "data": {
      "text/plain": [
       "0         nan\n",
       "1         nan\n",
       "2    Coursera\n",
       "2         edX\n",
       "3         nan\n",
       "Name: courses, dtype: object"
      ]
     },
     "execution_count": 81,
     "metadata": {},
     "output_type": "execute_result"
    }
   ],
   "source": [
    "t = mcq.apply(lambda x:pd.Series(x['CoursePlatformSelect']),axis=1).stack().reset_index(level=1,drop = True)\n",
    "t.name = 'courses'\n",
    "t.head()"
   ]
  },
  {
   "cell_type": "code",
   "execution_count": 82,
   "metadata": {},
   "outputs": [
    {
     "data": {
      "text/plain": [
       "Coursera    1725\n",
       "Udacity      805\n",
       "edX          710\n",
       "DataCamp     638\n",
       "Other        356\n",
       "Name: courses, dtype: int64"
      ]
     },
     "execution_count": 82,
     "metadata": {},
     "output_type": "execute_result"
    }
   ],
   "source": [
    "t= t[t!='nan'].value_counts()\n",
    "t"
   ]
  },
  {
   "cell_type": "code",
   "execution_count": 84,
   "metadata": {},
   "outputs": [
    {
     "data": {
      "text/plain": [
       "<AxesSubplot:xlabel='courses'>"
      ]
     },
     "execution_count": 84,
     "metadata": {},
     "output_type": "execute_result"
    },
    {
     "data": {
      "image/png": "[encoded data removed]",
      "text/plain": [
       "<Figure size 432x288 with 1 Axes>"
      ]
     },
     "metadata": {
      "needs_background": "light"
     },
     "output_type": "display_data"
    }
   ],
   "source": [
    "sns.barplot(y=t.index,x=t)"
   ]
  },
  {
   "cell_type": "markdown",
   "metadata": {},
   "source": [
    "# Q7. 데이터 사이언스 직무에서 가장 중요하다고 생각되는 스킬은?"
   ]
  },
  {
   "cell_type": "code",
   "execution_count": 100,
   "metadata": {},
   "outputs": [
    {
     "data": {
      "text/plain": [
       "['JobSkillImportanceBigData',\n",
       " 'JobSkillImportanceDegree',\n",
       " 'JobSkillImportanceStats',\n",
       " 'JobSkillImportanceEnterpriseTools',\n",
       " 'JobSkillImportancePython',\n",
       " 'JobSkillImportanceR',\n",
       " 'JobSkillImportanceSQL',\n",
       " 'JobSkillImportanceKaggleRanking',\n",
       " 'JobSkillImportanceMOOC',\n",
       " 'JobSkillImportanceVisualizations']"
      ]
     },
     "execution_count": 100,
     "metadata": {},
     "output_type": "execute_result"
    }
   ],
   "source": [
    "job_features = [x for x in mcq.columns if x.find('JobSkillImportance')!=-1 and x.find('OtherSelect')==-1]\n",
    "job_features"
   ]
  },
  {
   "cell_type": "code",
   "execution_count": 114,
   "metadata": {},
   "outputs": [
    {
     "data": {
      "text/plain": [
       "{'BigData': Nice to have    0.574065\n",
       " Necessary       0.379929\n",
       " Unnecessary     0.046006\n",
       " Name: JobSkillImportanceBigData, dtype: float64,\n",
       " 'Degree': Nice to have    0.598107\n",
       " Necessary       0.279867\n",
       " Unnecessary     0.122026\n",
       " Name: JobSkillImportanceDegree, dtype: float64,\n",
       " 'Stats': Necessary       0.513889\n",
       " Nice to have    0.457576\n",
       " Unnecessary     0.028535\n",
       " Name: JobSkillImportanceStats, dtype: float64,\n",
       " 'EnterpriseTools': Nice to have    0.564970\n",
       " Unnecessary     0.290200\n",
       " Necessary       0.144829\n",
       " Name: JobSkillImportanceEnterpriseTools, dtype: float64,\n",
       " 'Python': Necessary       0.645994\n",
       " Nice to have    0.327214\n",
       " Unnecessary     0.026792\n",
       " Name: JobSkillImportancePython, dtype: float64,\n",
       " 'R': Nice to have    0.513945\n",
       " Necessary       0.414807\n",
       " Unnecessary     0.071247\n",
       " Name: JobSkillImportanceR, dtype: float64,\n",
       " 'SQL': Nice to have    0.491778\n",
       " Necessary       0.434224\n",
       " Unnecessary     0.073998\n",
       " Name: JobSkillImportanceSQL, dtype: float64,\n",
       " 'KaggleRanking': Nice to have    0.677261\n",
       " Unnecessary     0.203876\n",
       " Necessary       0.118863\n",
       " Name: JobSkillImportanceKaggleRanking, dtype: float64,\n",
       " 'MOOC': Nice to have    0.606994\n",
       " Unnecessary     0.285752\n",
       " Necessary       0.107255\n",
       " Name: JobSkillImportanceMOOC, dtype: float64,\n",
       " 'Visualizations': Nice to have    0.490820\n",
       " Necessary       0.455392\n",
       " Unnecessary     0.053788\n",
       " Name: JobSkillImportanceVisualizations, dtype: float64}"
      ]
     },
     "execution_count": 114,
     "metadata": {},
     "output_type": "execute_result"
    }
   ],
   "source": [
    "jdf = {}\n",
    "for feature in job_features:\n",
    "    a = mcq[feature].value_counts()\n",
    "    a = a/a.sum()\n",
    "    jdf[feature[len('JobSkillImportance'):]] = a\n",
    "\n",
    "jdf"
   ]
  },
  {
   "cell_type": "code",
   "execution_count": 115,
   "metadata": {},
   "outputs": [
    {
     "data": {
      "text/html": [
       "<div>\n",
       "<style scoped>\n",
       "    .dataframe tbody tr th:only-of-type {\n",
       "        vertical-align: middle;\n",
       "    }\n",
       "\n",
       "    .dataframe tbody tr th {\n",
       "        vertical-align: top;\n",
       "    }\n",
       "\n",
       "    .dataframe thead th {\n",
       "        text-align: right;\n",
       "    }\n",
       "</style>\n",
       "<table border=\"1\" class=\"dataframe\">\n",
       "  <thead>\n",
       "    <tr style=\"text-align: right;\">\n",
       "      <th></th>\n",
       "      <th>Necessary</th>\n",
       "      <th>Nice to have</th>\n",
       "      <th>Unnecessary</th>\n",
       "    </tr>\n",
       "  </thead>\n",
       "  <tbody>\n",
       "    <tr>\n",
       "      <th>Python</th>\n",
       "      <td>0.645994</td>\n",
       "      <td>0.327214</td>\n",
       "      <td>0.026792</td>\n",
       "    </tr>\n",
       "    <tr>\n",
       "      <th>Stats</th>\n",
       "      <td>0.513889</td>\n",
       "      <td>0.457576</td>\n",
       "      <td>0.028535</td>\n",
       "    </tr>\n",
       "    <tr>\n",
       "      <th>Visualizations</th>\n",
       "      <td>0.455392</td>\n",
       "      <td>0.490820</td>\n",
       "      <td>0.053788</td>\n",
       "    </tr>\n",
       "    <tr>\n",
       "      <th>SQL</th>\n",
       "      <td>0.434224</td>\n",
       "      <td>0.491778</td>\n",
       "      <td>0.073998</td>\n",
       "    </tr>\n",
       "    <tr>\n",
       "      <th>R</th>\n",
       "      <td>0.414807</td>\n",
       "      <td>0.513945</td>\n",
       "      <td>0.071247</td>\n",
       "    </tr>\n",
       "    <tr>\n",
       "      <th>BigData</th>\n",
       "      <td>0.379929</td>\n",
       "      <td>0.574065</td>\n",
       "      <td>0.046006</td>\n",
       "    </tr>\n",
       "    <tr>\n",
       "      <th>Degree</th>\n",
       "      <td>0.279867</td>\n",
       "      <td>0.598107</td>\n",
       "      <td>0.122026</td>\n",
       "    </tr>\n",
       "    <tr>\n",
       "      <th>EnterpriseTools</th>\n",
       "      <td>0.144829</td>\n",
       "      <td>0.564970</td>\n",
       "      <td>0.290200</td>\n",
       "    </tr>\n",
       "    <tr>\n",
       "      <th>KaggleRanking</th>\n",
       "      <td>0.118863</td>\n",
       "      <td>0.677261</td>\n",
       "      <td>0.203876</td>\n",
       "    </tr>\n",
       "    <tr>\n",
       "      <th>MOOC</th>\n",
       "      <td>0.107255</td>\n",
       "      <td>0.606994</td>\n",
       "      <td>0.285752</td>\n",
       "    </tr>\n",
       "  </tbody>\n",
       "</table>\n",
       "</div>"
      ],
      "text/plain": [
       "                 Necessary  Nice to have  Unnecessary\n",
       "Python            0.645994      0.327214     0.026792\n",
       "Stats             0.513889      0.457576     0.028535\n",
       "Visualizations    0.455392      0.490820     0.053788\n",
       "SQL               0.434224      0.491778     0.073998\n",
       "R                 0.414807      0.513945     0.071247\n",
       "BigData           0.379929      0.574065     0.046006\n",
       "Degree            0.279867      0.598107     0.122026\n",
       "EnterpriseTools   0.144829      0.564970     0.290200\n",
       "KaggleRanking     0.118863      0.677261     0.203876\n",
       "MOOC              0.107255      0.606994     0.285752"
      ]
     },
     "execution_count": 115,
     "metadata": {},
     "output_type": "execute_result"
    }
   ],
   "source": [
    "jdf = pd.DataFrame(jdf).transpose().sort_values('Necessary',ascending=False)\n",
    "jdf"
   ]
  },
  {
   "cell_type": "code",
   "execution_count": 118,
   "metadata": {},
   "outputs": [
    {
     "data": {
      "text/plain": [
       "<AxesSubplot:>"
      ]
     },
     "execution_count": 118,
     "metadata": {},
     "output_type": "execute_result"
    },
    {
     "data": {
      "image/png": "[encoded data removed]",
      "text/plain": [
       "<Figure size 864x576 with 2 Axes>"
      ]
     },
     "metadata": {
      "needs_background": "light"
     },
     "output_type": "display_data"
    }
   ],
   "source": [
    "plt.figure(figsize=(12,8))\n",
    "sns.heatmap(jdf,annot = True)"
   ]
  },
  {
   "cell_type": "code",
   "execution_count": 121,
   "metadata": {},
   "outputs": [
    {
     "data": {
      "text/plain": [
       "<AxesSubplot:>"
      ]
     },
     "execution_count": 121,
     "metadata": {},
     "output_type": "execute_result"
    },
    {
     "data": {
      "image/png": "[encoded data removed]",
      "text/plain": [
       "<Figure size 864x576 with 1 Axes>"
      ]
     },
     "metadata": {
      "needs_background": "light"
     },
     "output_type": "display_data"
    }
   ],
   "source": [
    "jdf.plot(kind = 'bar',figsize = (12,8))"
   ]
  },
  {
   "cell_type": "markdown",
   "metadata": {},
   "source": [
    "필수적으로 갖춰야 하는 것은 python,통계학,시각화 등이 있고\n",
    "\n",
    "있으면 좋은 것은 KaggleRanking,MOOC,학위 등이 있다"
   ]
  },
  {
   "cell_type": "code",
   "execution_count": 224,
   "metadata": {},
   "outputs": [
    {
     "data": {
      "text/plain": [
       "3         250000\n",
       "8          80000\n",
       "9        1200000\n",
       "11         95000\n",
       "14       1100000\n",
       "          ...   \n",
       "16525     200000\n",
       "16532      82000\n",
       "16577      75000\n",
       "16673      90000\n",
       "16700      10000\n",
       "Name: CompensationAmount, Length: 5224, dtype: object"
      ]
     },
     "execution_count": 224,
     "metadata": {},
     "output_type": "execute_result"
    }
   ],
   "source": [
    "mcq = pd.read_csv('data/multipleChoiceResponses.csv',encoding=\"ISO-8859-1\", low_memory=False)\n",
    "mcq['CompensationAmount'] = mcq[\n",
    "    'CompensationAmount'].str.replace(',','')\n",
    "mcq['CompensationAmount'] = mcq[\n",
    "    'CompensationAmount'].str.replace('-','')\n",
    "mcq['CompensationAmount'].dropna()"
   ]
  },
  {
   "cell_type": "code",
   "execution_count": 225,
   "metadata": {},
   "outputs": [
    {
     "data": {
      "text/html": [
       "<div>\n",
       "<style scoped>\n",
       "    .dataframe tbody tr th:only-of-type {\n",
       "        vertical-align: middle;\n",
       "    }\n",
       "\n",
       "    .dataframe tbody tr th {\n",
       "        vertical-align: top;\n",
       "    }\n",
       "\n",
       "    .dataframe thead th {\n",
       "        text-align: right;\n",
       "    }\n",
       "</style>\n",
       "<table border=\"1\" class=\"dataframe\">\n",
       "  <thead>\n",
       "    <tr style=\"text-align: right;\">\n",
       "      <th></th>\n",
       "      <th>originCountry</th>\n",
       "      <th>exchangeRate</th>\n",
       "    </tr>\n",
       "  </thead>\n",
       "  <tbody>\n",
       "    <tr>\n",
       "      <th>0</th>\n",
       "      <td>USD</td>\n",
       "      <td>1.000000</td>\n",
       "    </tr>\n",
       "    <tr>\n",
       "      <th>1</th>\n",
       "      <td>EUR</td>\n",
       "      <td>1.195826</td>\n",
       "    </tr>\n",
       "    <tr>\n",
       "      <th>2</th>\n",
       "      <td>INR</td>\n",
       "      <td>0.015620</td>\n",
       "    </tr>\n",
       "    <tr>\n",
       "      <th>3</th>\n",
       "      <td>GBP</td>\n",
       "      <td>1.324188</td>\n",
       "    </tr>\n",
       "    <tr>\n",
       "      <th>4</th>\n",
       "      <td>BRL</td>\n",
       "      <td>0.321350</td>\n",
       "    </tr>\n",
       "    <tr>\n",
       "      <th>...</th>\n",
       "      <td>...</td>\n",
       "      <td>...</td>\n",
       "    </tr>\n",
       "    <tr>\n",
       "      <th>81</th>\n",
       "      <td>SVC</td>\n",
       "      <td>0.114124</td>\n",
       "    </tr>\n",
       "    <tr>\n",
       "      <th>82</th>\n",
       "      <td>SZL</td>\n",
       "      <td>0.077002</td>\n",
       "    </tr>\n",
       "    <tr>\n",
       "      <th>83</th>\n",
       "      <td>UYU</td>\n",
       "      <td>0.034642</td>\n",
       "    </tr>\n",
       "    <tr>\n",
       "      <th>84</th>\n",
       "      <td>XAF</td>\n",
       "      <td>0.001823</td>\n",
       "    </tr>\n",
       "    <tr>\n",
       "      <th>85</th>\n",
       "      <td>YER</td>\n",
       "      <td>0.003996</td>\n",
       "    </tr>\n",
       "  </tbody>\n",
       "</table>\n",
       "<p>86 rows × 2 columns</p>\n",
       "</div>"
      ],
      "text/plain": [
       "   originCountry  exchangeRate\n",
       "0            USD      1.000000\n",
       "1            EUR      1.195826\n",
       "2            INR      0.015620\n",
       "3            GBP      1.324188\n",
       "4            BRL      0.321350\n",
       "..           ...           ...\n",
       "81           SVC      0.114124\n",
       "82           SZL      0.077002\n",
       "83           UYU      0.034642\n",
       "84           XAF      0.001823\n",
       "85           YER      0.003996\n",
       "\n",
       "[86 rows x 2 columns]"
      ]
     },
     "execution_count": 225,
     "metadata": {},
     "output_type": "execute_result"
    }
   ],
   "source": [
    "rates = pd.read_csv('data/conversionRates.csv')\n",
    "# 필요없는 정보 제거\n",
    "rates = rates.iloc[:,1:]\n",
    "rates"
   ]
  },
  {
   "cell_type": "code",
   "execution_count": 226,
   "metadata": {},
   "outputs": [
    {
     "data": {
      "text/html": [
       "<div>\n",
       "<style scoped>\n",
       "    .dataframe tbody tr th:only-of-type {\n",
       "        vertical-align: middle;\n",
       "    }\n",
       "\n",
       "    .dataframe tbody tr th {\n",
       "        vertical-align: top;\n",
       "    }\n",
       "\n",
       "    .dataframe thead th {\n",
       "        text-align: right;\n",
       "    }\n",
       "</style>\n",
       "<table border=\"1\" class=\"dataframe\">\n",
       "  <thead>\n",
       "    <tr style=\"text-align: right;\">\n",
       "      <th></th>\n",
       "      <th>CompensationAmount</th>\n",
       "      <th>CompensationCurrency</th>\n",
       "      <th>GenderSelect</th>\n",
       "      <th>Country</th>\n",
       "      <th>CurrentJobTitleSelect</th>\n",
       "      <th>originCountry</th>\n",
       "      <th>exchangeRate</th>\n",
       "      <th>Salary</th>\n",
       "    </tr>\n",
       "  </thead>\n",
       "  <tbody>\n",
       "    <tr>\n",
       "      <th>0</th>\n",
       "      <td>250000</td>\n",
       "      <td>USD</td>\n",
       "      <td>Male</td>\n",
       "      <td>United States</td>\n",
       "      <td>Operations Research Practitioner</td>\n",
       "      <td>USD</td>\n",
       "      <td>1.000000</td>\n",
       "      <td>250000.000</td>\n",
       "    </tr>\n",
       "    <tr>\n",
       "      <th>1</th>\n",
       "      <td>80000</td>\n",
       "      <td>AUD</td>\n",
       "      <td>Female</td>\n",
       "      <td>Australia</td>\n",
       "      <td>Business Analyst</td>\n",
       "      <td>AUD</td>\n",
       "      <td>0.802310</td>\n",
       "      <td>64184.800</td>\n",
       "    </tr>\n",
       "    <tr>\n",
       "      <th>2</th>\n",
       "      <td>1200000</td>\n",
       "      <td>RUB</td>\n",
       "      <td>Male</td>\n",
       "      <td>Russia</td>\n",
       "      <td>Software Developer/Software Engineer</td>\n",
       "      <td>RUB</td>\n",
       "      <td>0.017402</td>\n",
       "      <td>20882.400</td>\n",
       "    </tr>\n",
       "    <tr>\n",
       "      <th>3</th>\n",
       "      <td>95000</td>\n",
       "      <td>INR</td>\n",
       "      <td>Male</td>\n",
       "      <td>India</td>\n",
       "      <td>Data Scientist</td>\n",
       "      <td>INR</td>\n",
       "      <td>0.015620</td>\n",
       "      <td>1483.900</td>\n",
       "    </tr>\n",
       "    <tr>\n",
       "      <th>4</th>\n",
       "      <td>1100000</td>\n",
       "      <td>TWD</td>\n",
       "      <td>Male</td>\n",
       "      <td>Taiwan</td>\n",
       "      <td>Software Developer/Software Engineer</td>\n",
       "      <td>TWD</td>\n",
       "      <td>0.033304</td>\n",
       "      <td>36634.400</td>\n",
       "    </tr>\n",
       "    <tr>\n",
       "      <th>...</th>\n",
       "      <td>...</td>\n",
       "      <td>...</td>\n",
       "      <td>...</td>\n",
       "      <td>...</td>\n",
       "      <td>...</td>\n",
       "      <td>...</td>\n",
       "      <td>...</td>\n",
       "      <td>...</td>\n",
       "    </tr>\n",
       "    <tr>\n",
       "      <th>4362</th>\n",
       "      <td>50000</td>\n",
       "      <td>USD</td>\n",
       "      <td>Male</td>\n",
       "      <td>Other</td>\n",
       "      <td>DBA/Database Engineer</td>\n",
       "      <td>USD</td>\n",
       "      <td>1.000000</td>\n",
       "      <td>50000.000</td>\n",
       "    </tr>\n",
       "    <tr>\n",
       "      <th>4363</th>\n",
       "      <td>84000</td>\n",
       "      <td>EUR</td>\n",
       "      <td>Male</td>\n",
       "      <td>Germany</td>\n",
       "      <td>Software Developer/Software Engineer</td>\n",
       "      <td>EUR</td>\n",
       "      <td>1.195826</td>\n",
       "      <td>100449.384</td>\n",
       "    </tr>\n",
       "    <tr>\n",
       "      <th>4364</th>\n",
       "      <td>200000</td>\n",
       "      <td>USD</td>\n",
       "      <td>Male</td>\n",
       "      <td>United States</td>\n",
       "      <td>Data Scientist</td>\n",
       "      <td>USD</td>\n",
       "      <td>1.000000</td>\n",
       "      <td>200000.000</td>\n",
       "    </tr>\n",
       "    <tr>\n",
       "      <th>4365</th>\n",
       "      <td>75000</td>\n",
       "      <td>EUR</td>\n",
       "      <td>Male</td>\n",
       "      <td>Norway</td>\n",
       "      <td>Data Analyst</td>\n",
       "      <td>EUR</td>\n",
       "      <td>1.195826</td>\n",
       "      <td>89686.950</td>\n",
       "    </tr>\n",
       "    <tr>\n",
       "      <th>4366</th>\n",
       "      <td>10000</td>\n",
       "      <td>USD</td>\n",
       "      <td>Male</td>\n",
       "      <td>South Korea</td>\n",
       "      <td>Data Scientist</td>\n",
       "      <td>USD</td>\n",
       "      <td>1.000000</td>\n",
       "      <td>10000.000</td>\n",
       "    </tr>\n",
       "  </tbody>\n",
       "</table>\n",
       "<p>4363 rows × 8 columns</p>\n",
       "</div>"
      ],
      "text/plain": [
       "     CompensationAmount CompensationCurrency GenderSelect        Country  \\\n",
       "0                250000                  USD         Male  United States   \n",
       "1                 80000                  AUD       Female      Australia   \n",
       "2               1200000                  RUB         Male         Russia   \n",
       "3                 95000                  INR         Male          India   \n",
       "4               1100000                  TWD         Male         Taiwan   \n",
       "...                 ...                  ...          ...            ...   \n",
       "4362              50000                  USD         Male          Other   \n",
       "4363              84000                  EUR         Male        Germany   \n",
       "4364             200000                  USD         Male  United States   \n",
       "4365              75000                  EUR         Male         Norway   \n",
       "4366              10000                  USD         Male    South Korea   \n",
       "\n",
       "                     CurrentJobTitleSelect originCountry  exchangeRate  \\\n",
       "0         Operations Research Practitioner           USD      1.000000   \n",
       "1                         Business Analyst           AUD      0.802310   \n",
       "2     Software Developer/Software Engineer           RUB      0.017402   \n",
       "3                           Data Scientist           INR      0.015620   \n",
       "4     Software Developer/Software Engineer           TWD      0.033304   \n",
       "...                                    ...           ...           ...   \n",
       "4362                 DBA/Database Engineer           USD      1.000000   \n",
       "4363  Software Developer/Software Engineer           EUR      1.195826   \n",
       "4364                        Data Scientist           USD      1.000000   \n",
       "4365                          Data Analyst           EUR      1.195826   \n",
       "4366                        Data Scientist           USD      1.000000   \n",
       "\n",
       "          Salary  \n",
       "0     250000.000  \n",
       "1      64184.800  \n",
       "2      20882.400  \n",
       "3       1483.900  \n",
       "4      36634.400  \n",
       "...          ...  \n",
       "4362   50000.000  \n",
       "4363  100449.384  \n",
       "4364  200000.000  \n",
       "4365   89686.950  \n",
       "4366   10000.000  \n",
       "\n",
       "[4363 rows x 8 columns]"
      ]
     },
     "execution_count": 226,
     "metadata": {},
     "output_type": "execute_result"
    }
   ],
   "source": [
    "salary = mcq[\n",
    "    ['CompensationAmount','CompensationCurrency',\n",
    "     'GenderSelect',\n",
    "     'Country',\n",
    "     'CurrentJobTitleSelect']].dropna()\n",
    "salary = salary.merge(rates,left_on='CompensationCurrency',right_on='originCountry', how='left')\n",
    "\n",
    "salary['Salary'] = pd.to_numeric(salary['CompensationAmount'])*salary['exchangeRate']\n",
    "salary.dropna()"
   ]
  },
  {
   "cell_type": "code",
   "execution_count": 227,
   "metadata": {},
   "outputs": [
    {
     "name": "stdout",
     "output_type": "stream",
     "text": [
      "Maximum Salary is USD $ 208999999\n",
      "Minimum Salary is USD $ -2147483648\n",
      "Median Salary is USD $ 53812.0\n"
     ]
    }
   ],
   "source": [
    "print('Maximum Salary is USD $',\n",
    "      salary['Salary'].dropna().astype(int).max())\n",
    "print('Minimum Salary is USD $',\n",
    "      salary['Salary'].dropna().astype(int).min())\n",
    "print('Median Salary is USD $',\n",
    "      salary['Salary'].dropna().astype(int).median())"
   ]
  },
  {
   "cell_type": "code",
   "execution_count": 233,
   "metadata": {},
   "outputs": [
    {
     "data": {
      "text/plain": [
       "Text(0.5, 1.0, 'Salary Distribution')"
      ]
     },
     "execution_count": 233,
     "metadata": {},
     "output_type": "execute_result"
    },
    {
     "data": {
      "image/png": "[encoded data removed]",
      "text/plain": [
       "<Figure size 864x576 with 1 Axes>"
      ]
     },
     "metadata": {
      "needs_background": "light"
     },
     "output_type": "display_data"
    }
   ],
   "source": [
    "plt.figure(figsize = (12,8))\n",
    "sns.distplot(salary[salary['Salary']<500000]['Salary'])\n",
    "\n",
    "# 급여 중간값 선 그리기\n",
    "plt.axvline(salary['Salary'].median(), linestyle='dashed')\n",
    "plt.title('Salary Distribution',size=15)"
   ]
  },
  {
   "cell_type": "code",
   "execution_count": 272,
   "metadata": {
    "scrolled": true
   },
   "outputs": [
    {
     "data": {
      "text/plain": [
       "<AxesSubplot:xlabel='Salary', ylabel='Country'>"
      ]
     },
     "execution_count": 272,
     "metadata": {},
     "output_type": "execute_result"
    },
    {
     "data": {
      "image/png": "[encoded data removed]",
      "text/plain": [
       "<Figure size 576x864 with 1 Axes>"
      ]
     },
     "metadata": {
      "needs_background": "light"
     },
     "output_type": "display_data"
    }
   ],
   "source": [
    "plt.subplots(figsize=(8,12))\n",
    "\n",
    "sal_coun = salary.groupby('Country')['Salary'].median().sort_values(\n",
    "    ascending=False)[:30].to_frame()\n",
    "sns.barplot('Salary',y=sal_coun.index,data = sal_coun,palette='RdYlGn')"
   ]
  },
  {
   "cell_type": "code",
   "execution_count": 274,
   "metadata": {},
   "outputs": [
    {
     "data": {
      "text/plain": [
       "<AxesSubplot:xlabel='Salary', ylabel='GenderSelect'>"
      ]
     },
     "execution_count": 274,
     "metadata": {},
     "output_type": "execute_result"
    },
    {
     "data": {
      "image/png": "[encoded data removed]",
      "text/plain": [
       "<Figure size 432x288 with 1 Axes>"
      ]
     },
     "metadata": {
      "needs_background": "light"
     },
     "output_type": "display_data"
    }
   ],
   "source": [
    "salary=salary[salary['Salary']<500000]\n",
    "sns.boxplot(x=\"Salary\",y=\"GenderSelect\",data = salary)"
   ]
  },
  {
   "cell_type": "code",
   "execution_count": 281,
   "metadata": {},
   "outputs": [
    {
     "data": {
      "text/plain": [
       "<AxesSubplot:xlabel='Salary', ylabel='GenderSelect'>"
      ]
     },
     "execution_count": 281,
     "metadata": {},
     "output_type": "execute_result"
    },
    {
     "data": {
      "image/png": "[encoded data removed]",
      "text/plain": [
       "<Figure size 432x288 with 1 Axes>"
      ]
     },
     "metadata": {
      "needs_background": "light"
     },
     "output_type": "display_data"
    }
   ],
   "source": [
    "salary_kor = salary.loc[salary['Country']=='South Korea']\n",
    "sns.boxplot(x=\"Salary\",y=\"GenderSelect\",data = salary_kor)"
   ]
  },
  {
   "cell_type": "markdown",
   "metadata": {},
   "source": [
    "격차가 많이 나는 듯 하여 상세하게 살펴보기"
   ]
  },
  {
   "cell_type": "code",
   "execution_count": 282,
   "metadata": {},
   "outputs": [
    {
     "data": {
      "text/html": [
       "<div>\n",
       "<style scoped>\n",
       "    .dataframe tbody tr th:only-of-type {\n",
       "        vertical-align: middle;\n",
       "    }\n",
       "\n",
       "    .dataframe tbody tr th {\n",
       "        vertical-align: top;\n",
       "    }\n",
       "\n",
       "    .dataframe thead th {\n",
       "        text-align: right;\n",
       "    }\n",
       "</style>\n",
       "<table border=\"1\" class=\"dataframe\">\n",
       "  <thead>\n",
       "    <tr style=\"text-align: right;\">\n",
       "      <th></th>\n",
       "      <th>CompensationAmount</th>\n",
       "      <th>CompensationCurrency</th>\n",
       "      <th>GenderSelect</th>\n",
       "      <th>Country</th>\n",
       "      <th>CurrentJobTitleSelect</th>\n",
       "      <th>originCountry</th>\n",
       "      <th>exchangeRate</th>\n",
       "      <th>Salary</th>\n",
       "    </tr>\n",
       "  </thead>\n",
       "  <tbody>\n",
       "    <tr>\n",
       "      <th>479</th>\n",
       "      <td>30000</td>\n",
       "      <td>KRW</td>\n",
       "      <td>Female</td>\n",
       "      <td>South Korea</td>\n",
       "      <td>Data Analyst</td>\n",
       "      <td>KRW</td>\n",
       "      <td>0.000886</td>\n",
       "      <td>26.58</td>\n",
       "    </tr>\n",
       "    <tr>\n",
       "      <th>2903</th>\n",
       "      <td>800000</td>\n",
       "      <td>KRW</td>\n",
       "      <td>Female</td>\n",
       "      <td>South Korea</td>\n",
       "      <td>Researcher</td>\n",
       "      <td>KRW</td>\n",
       "      <td>0.000886</td>\n",
       "      <td>708.80</td>\n",
       "    </tr>\n",
       "    <tr>\n",
       "      <th>4063</th>\n",
       "      <td>60000000</td>\n",
       "      <td>KRW</td>\n",
       "      <td>Female</td>\n",
       "      <td>South Korea</td>\n",
       "      <td>Researcher</td>\n",
       "      <td>KRW</td>\n",
       "      <td>0.000886</td>\n",
       "      <td>53160.00</td>\n",
       "    </tr>\n",
       "  </tbody>\n",
       "</table>\n",
       "</div>"
      ],
      "text/plain": [
       "     CompensationAmount CompensationCurrency GenderSelect      Country  \\\n",
       "479               30000                  KRW       Female  South Korea   \n",
       "2903             800000                  KRW       Female  South Korea   \n",
       "4063           60000000                  KRW       Female  South Korea   \n",
       "\n",
       "     CurrentJobTitleSelect originCountry  exchangeRate    Salary  \n",
       "479           Data Analyst           KRW      0.000886     26.58  \n",
       "2903            Researcher           KRW      0.000886    708.80  \n",
       "4063            Researcher           KRW      0.000886  53160.00  "
      ]
     },
     "execution_count": 282,
     "metadata": {},
     "output_type": "execute_result"
    }
   ],
   "source": [
    "salary_kor[salary_kor[\"GenderSelect\"]==\"Female\"]"
   ]
  },
  {
   "cell_type": "markdown",
   "metadata": {},
   "source": [
    "3명의 데이터밖에 없고, 심지어 두명은 화폐단위를 헷갈려서 잘못 입력한것처럼 보임"
   ]
  },
  {
   "cell_type": "markdown",
   "metadata": {},
   "source": [
    "# Q9. 개인프로젝트나 학습용 데이터를 어디에서 얻나요?"
   ]
  },
  {
   "cell_type": "code",
   "execution_count": 289,
   "metadata": {},
   "outputs": [
    {
     "data": {
      "text/plain": [
       "0    [Dataset aggregator/platform (i.e. Socrata/Kag...\n",
       "1    [Dataset aggregator/platform (i.e. Socrata/Kag...\n",
       "2    [Dataset aggregator/platform (i.e. Socrata/Kag...\n",
       "3          [I collect my own data (e.g. web-scraping)]\n",
       "4                                             [GitHub]\n",
       "Name: PublicDatasetsSelect, dtype: object"
      ]
     },
     "execution_count": 289,
     "metadata": {},
     "output_type": "execute_result"
    }
   ],
   "source": [
    "mcq = pd.read_csv('data/multipleChoiceResponses.csv',encoding=\"ISO-8859-1\", low_memory=False)\n",
    "mcq['PublicDatasetsSelect'] = mcq['PublicDatasetsSelect'].astype(str).apply(lambda x: x.split(','))\n",
    "mcq['PublicDatasetsSelect'].head()"
   ]
  },
  {
   "cell_type": "code",
   "execution_count": 294,
   "metadata": {},
   "outputs": [
    {
     "data": {
      "text/plain": [
       "0    Dataset aggregator/platform (i.e. Socrata/Kagg...\n",
       "0        University/Non-profit research group websites\n",
       "0                                                Other\n",
       "1    Dataset aggregator/platform (i.e. Socrata/Kagg...\n",
       "2    Dataset aggregator/platform (i.e. Socrata/Kagg...\n",
       "Name: dataset, dtype: object"
      ]
     },
     "execution_count": 294,
     "metadata": {},
     "output_type": "execute_result"
    }
   ],
   "source": [
    "d = mcq.apply(lambda x:pd.Series(x['PublicDatasetsSelect']),axis=1).stack().reset_index(level=1,drop = True)\n",
    "d.name = 'dataset'\n",
    "d.head()"
   ]
  },
  {
   "cell_type": "code",
   "execution_count": 295,
   "metadata": {},
   "outputs": [
    {
     "data": {
      "text/plain": [
       "Dataset aggregator/platform (i.e. Socrata/Kaggle Datasets/data.world/etc.)    6843\n",
       "Google Search                                                                 3600\n",
       "University/Non-profit research group websites                                 2873\n",
       "I collect my own data (e.g. web-scraping)                                     2560\n",
       "GitHub                                                                        2400\n",
       "Government website                                                            2079\n",
       "Other                                                                          399\n",
       "Name: dataset, dtype: int64"
      ]
     },
     "execution_count": 295,
     "metadata": {},
     "output_type": "execute_result"
    }
   ],
   "source": [
    "d=d[d!='nan'].value_counts()\n",
    "d"
   ]
  },
  {
   "cell_type": "code",
   "execution_count": 296,
   "metadata": {},
   "outputs": [
    {
     "data": {
      "text/plain": [
       "<AxesSubplot:xlabel='dataset'>"
      ]
     },
     "execution_count": 296,
     "metadata": {},
     "output_type": "execute_result"
    },
    {
     "data": {
      "image/png": "[encoded data removed]",
      "text/plain": [
       "<Figure size 432x288 with 1 Axes>"
      ]
     },
     "metadata": {
      "needs_background": "light"
     },
     "output_type": "display_data"
    }
   ],
   "source": [
    "sns.barplot(y=d.index,x=d)"
   ]
  },
  {
   "cell_type": "markdown",
   "metadata": {},
   "source": [
    "주로 Socrata나 Kaggle,data.world 등에서 dataset을 얻음"
   ]
  },
  {
   "cell_type": "markdown",
   "metadata": {},
   "source": [
    "### 주관식 응답 알아보기"
   ]
  },
  {
   "cell_type": "code",
   "execution_count": 298,
   "metadata": {},
   "outputs": [
    {
     "data": {
      "text/html": [
       "<div>\n",
       "<style scoped>\n",
       "    .dataframe tbody tr th:only-of-type {\n",
       "        vertical-align: middle;\n",
       "    }\n",
       "\n",
       "    .dataframe tbody tr th {\n",
       "        vertical-align: top;\n",
       "    }\n",
       "\n",
       "    .dataframe thead th {\n",
       "        text-align: right;\n",
       "    }\n",
       "</style>\n",
       "<table border=\"1\" class=\"dataframe\">\n",
       "  <thead>\n",
       "    <tr style=\"text-align: right;\">\n",
       "      <th></th>\n",
       "      <th>GenderFreeForm</th>\n",
       "      <th>KaggleMotivationFreeForm</th>\n",
       "      <th>CurrentJobTitleFreeForm</th>\n",
       "      <th>MLToolNextYearFreeForm</th>\n",
       "      <th>MLMethodNextYearFreeForm</th>\n",
       "      <th>LanguageRecommendationFreeForm</th>\n",
       "      <th>PublicDatasetsFreeForm</th>\n",
       "      <th>PersonalProjectsChallengeFreeForm</th>\n",
       "      <th>LearningPlatformCommunityFreeForm</th>\n",
       "      <th>LearningPlatformFreeForm1</th>\n",
       "      <th>...</th>\n",
       "      <th>WorkMethodsFrequencySelect2FreeForm</th>\n",
       "      <th>WorkMethodsFrequencySelect3FreeForm</th>\n",
       "      <th>TimeOtherSelectFreeForm</th>\n",
       "      <th>WorkChallengesFreeForm</th>\n",
       "      <th>WorkChallengeFrequencyOtherFreeForm</th>\n",
       "      <th>WorkMLTeamSeatFreeForm</th>\n",
       "      <th>WorkDataStorageFreeForm</th>\n",
       "      <th>WorkCodeSharingFreeForm</th>\n",
       "      <th>SalaryChangeFreeForm</th>\n",
       "      <th>JobSearchResourceFreeForm</th>\n",
       "    </tr>\n",
       "  </thead>\n",
       "  <tbody>\n",
       "    <tr>\n",
       "      <th>0</th>\n",
       "      <td>NaN</td>\n",
       "      <td>NaN</td>\n",
       "      <td>NaN</td>\n",
       "      <td>NaN</td>\n",
       "      <td>NaN</td>\n",
       "      <td>NaN</td>\n",
       "      <td>NaN</td>\n",
       "      <td>Data manipulation</td>\n",
       "      <td>NaN</td>\n",
       "      <td>NaN</td>\n",
       "      <td>...</td>\n",
       "      <td>NaN</td>\n",
       "      <td>NaN</td>\n",
       "      <td>NaN</td>\n",
       "      <td>NaN</td>\n",
       "      <td>NaN</td>\n",
       "      <td>NaN</td>\n",
       "      <td>NaN</td>\n",
       "      <td>NaN</td>\n",
       "      <td>NaN</td>\n",
       "      <td>NaN</td>\n",
       "    </tr>\n",
       "    <tr>\n",
       "      <th>1</th>\n",
       "      <td>NaN</td>\n",
       "      <td>NaN</td>\n",
       "      <td>NaN</td>\n",
       "      <td>NaN</td>\n",
       "      <td>NaN</td>\n",
       "      <td>NaN</td>\n",
       "      <td>NaN</td>\n",
       "      <td>I can't find time to practice consistently</td>\n",
       "      <td>NaN</td>\n",
       "      <td>NaN</td>\n",
       "      <td>...</td>\n",
       "      <td>NaN</td>\n",
       "      <td>NaN</td>\n",
       "      <td>NaN</td>\n",
       "      <td>NaN</td>\n",
       "      <td>NaN</td>\n",
       "      <td>NaN</td>\n",
       "      <td>NaN</td>\n",
       "      <td>NaN</td>\n",
       "      <td>NaN</td>\n",
       "      <td>NaN</td>\n",
       "    </tr>\n",
       "    <tr>\n",
       "      <th>2</th>\n",
       "      <td>NaN</td>\n",
       "      <td>NaN</td>\n",
       "      <td>teacher</td>\n",
       "      <td>NaN</td>\n",
       "      <td>NaN</td>\n",
       "      <td>NaN</td>\n",
       "      <td>NaN</td>\n",
       "      <td>NaN</td>\n",
       "      <td>NaN</td>\n",
       "      <td>Meetups</td>\n",
       "      <td>...</td>\n",
       "      <td>NaN</td>\n",
       "      <td>NaN</td>\n",
       "      <td>NaN</td>\n",
       "      <td>NaN</td>\n",
       "      <td>NaN</td>\n",
       "      <td>NaN</td>\n",
       "      <td>NaN</td>\n",
       "      <td>NaN</td>\n",
       "      <td>NaN</td>\n",
       "      <td>NaN</td>\n",
       "    </tr>\n",
       "    <tr>\n",
       "      <th>3</th>\n",
       "      <td>NaN</td>\n",
       "      <td>NaN</td>\n",
       "      <td>NaN</td>\n",
       "      <td>NaN</td>\n",
       "      <td>NaN</td>\n",
       "      <td>NaN</td>\n",
       "      <td>NaN</td>\n",
       "      <td>Connectivity/data fusion</td>\n",
       "      <td>NaN</td>\n",
       "      <td>NaN</td>\n",
       "      <td>...</td>\n",
       "      <td>NaN</td>\n",
       "      <td>NaN</td>\n",
       "      <td>NaN</td>\n",
       "      <td>NaN</td>\n",
       "      <td>NaN</td>\n",
       "      <td>NaN</td>\n",
       "      <td>NaN</td>\n",
       "      <td>NaN</td>\n",
       "      <td>NaN</td>\n",
       "      <td>NaN</td>\n",
       "    </tr>\n",
       "    <tr>\n",
       "      <th>4</th>\n",
       "      <td>NaN</td>\n",
       "      <td>NaN</td>\n",
       "      <td>NaN</td>\n",
       "      <td>NaN</td>\n",
       "      <td>NaN</td>\n",
       "      <td>NaN</td>\n",
       "      <td>NaN</td>\n",
       "      <td>NaN</td>\n",
       "      <td>NaN</td>\n",
       "      <td>NaN</td>\n",
       "      <td>...</td>\n",
       "      <td>NaN</td>\n",
       "      <td>NaN</td>\n",
       "      <td>NaN</td>\n",
       "      <td>NaN</td>\n",
       "      <td>NaN</td>\n",
       "      <td>NaN</td>\n",
       "      <td>NaN</td>\n",
       "      <td>NaN</td>\n",
       "      <td>NaN</td>\n",
       "      <td>NaN</td>\n",
       "    </tr>\n",
       "    <tr>\n",
       "      <th>...</th>\n",
       "      <td>...</td>\n",
       "      <td>...</td>\n",
       "      <td>...</td>\n",
       "      <td>...</td>\n",
       "      <td>...</td>\n",
       "      <td>...</td>\n",
       "      <td>...</td>\n",
       "      <td>...</td>\n",
       "      <td>...</td>\n",
       "      <td>...</td>\n",
       "      <td>...</td>\n",
       "      <td>...</td>\n",
       "      <td>...</td>\n",
       "      <td>...</td>\n",
       "      <td>...</td>\n",
       "      <td>...</td>\n",
       "      <td>...</td>\n",
       "      <td>...</td>\n",
       "      <td>...</td>\n",
       "      <td>...</td>\n",
       "      <td>...</td>\n",
       "    </tr>\n",
       "    <tr>\n",
       "      <th>16711</th>\n",
       "      <td>NaN</td>\n",
       "      <td>NaN</td>\n",
       "      <td>NaN</td>\n",
       "      <td>NaN</td>\n",
       "      <td>NaN</td>\n",
       "      <td>NaN</td>\n",
       "      <td>NaN</td>\n",
       "      <td>NaN</td>\n",
       "      <td>NaN</td>\n",
       "      <td>online courses</td>\n",
       "      <td>...</td>\n",
       "      <td>NaN</td>\n",
       "      <td>NaN</td>\n",
       "      <td>NaN</td>\n",
       "      <td>NaN</td>\n",
       "      <td>NaN</td>\n",
       "      <td>NaN</td>\n",
       "      <td>NaN</td>\n",
       "      <td>NaN</td>\n",
       "      <td>NaN</td>\n",
       "      <td>NaN</td>\n",
       "    </tr>\n",
       "    <tr>\n",
       "      <th>16712</th>\n",
       "      <td>NaN</td>\n",
       "      <td>NaN</td>\n",
       "      <td>NaN</td>\n",
       "      <td>NaN</td>\n",
       "      <td>NaN</td>\n",
       "      <td>NaN</td>\n",
       "      <td>NaN</td>\n",
       "      <td>NaN</td>\n",
       "      <td>NaN</td>\n",
       "      <td>NaN</td>\n",
       "      <td>...</td>\n",
       "      <td>NaN</td>\n",
       "      <td>NaN</td>\n",
       "      <td>NaN</td>\n",
       "      <td>NaN</td>\n",
       "      <td>NaN</td>\n",
       "      <td>NaN</td>\n",
       "      <td>NaN</td>\n",
       "      <td>NaN</td>\n",
       "      <td>NaN</td>\n",
       "      <td>NaN</td>\n",
       "    </tr>\n",
       "    <tr>\n",
       "      <th>16713</th>\n",
       "      <td>NaN</td>\n",
       "      <td>NaN</td>\n",
       "      <td>NaN</td>\n",
       "      <td>NaN</td>\n",
       "      <td>NaN</td>\n",
       "      <td>NaN</td>\n",
       "      <td>NaN</td>\n",
       "      <td>NaN</td>\n",
       "      <td>NaN</td>\n",
       "      <td>NaN</td>\n",
       "      <td>...</td>\n",
       "      <td>NaN</td>\n",
       "      <td>NaN</td>\n",
       "      <td>NaN</td>\n",
       "      <td>NaN</td>\n",
       "      <td>NaN</td>\n",
       "      <td>NaN</td>\n",
       "      <td>NaN</td>\n",
       "      <td>NaN</td>\n",
       "      <td>NaN</td>\n",
       "      <td>NaN</td>\n",
       "    </tr>\n",
       "    <tr>\n",
       "      <th>16714</th>\n",
       "      <td>NaN</td>\n",
       "      <td>NaN</td>\n",
       "      <td>NaN</td>\n",
       "      <td>NaN</td>\n",
       "      <td>NaN</td>\n",
       "      <td>NaN</td>\n",
       "      <td>NaN</td>\n",
       "      <td>NaN</td>\n",
       "      <td>NaN</td>\n",
       "      <td>NaN</td>\n",
       "      <td>...</td>\n",
       "      <td>NaN</td>\n",
       "      <td>NaN</td>\n",
       "      <td>NaN</td>\n",
       "      <td>NaN</td>\n",
       "      <td>NaN</td>\n",
       "      <td>NaN</td>\n",
       "      <td>NaN</td>\n",
       "      <td>NaN</td>\n",
       "      <td>NaN</td>\n",
       "      <td>NaN</td>\n",
       "    </tr>\n",
       "    <tr>\n",
       "      <th>16715</th>\n",
       "      <td>NaN</td>\n",
       "      <td>NaN</td>\n",
       "      <td>NaN</td>\n",
       "      <td>NaN</td>\n",
       "      <td>NaN</td>\n",
       "      <td>NaN</td>\n",
       "      <td>NaN</td>\n",
       "      <td>NaN</td>\n",
       "      <td>NaN</td>\n",
       "      <td>NaN</td>\n",
       "      <td>...</td>\n",
       "      <td>NaN</td>\n",
       "      <td>NaN</td>\n",
       "      <td>NaN</td>\n",
       "      <td>NaN</td>\n",
       "      <td>NaN</td>\n",
       "      <td>NaN</td>\n",
       "      <td>NaN</td>\n",
       "      <td>NaN</td>\n",
       "      <td>NaN</td>\n",
       "      <td>NaN</td>\n",
       "    </tr>\n",
       "  </tbody>\n",
       "</table>\n",
       "<p>16716 rows × 62 columns</p>\n",
       "</div>"
      ],
      "text/plain": [
       "      GenderFreeForm KaggleMotivationFreeForm CurrentJobTitleFreeForm  \\\n",
       "0                NaN                      NaN                     NaN   \n",
       "1                NaN                      NaN                     NaN   \n",
       "2                NaN                      NaN                 teacher   \n",
       "3                NaN                      NaN                     NaN   \n",
       "4                NaN                      NaN                     NaN   \n",
       "...              ...                      ...                     ...   \n",
       "16711            NaN                      NaN                     NaN   \n",
       "16712            NaN                      NaN                     NaN   \n",
       "16713            NaN                      NaN                     NaN   \n",
       "16714            NaN                      NaN                     NaN   \n",
       "16715            NaN                      NaN                     NaN   \n",
       "\n",
       "      MLToolNextYearFreeForm MLMethodNextYearFreeForm  \\\n",
       "0                        NaN                      NaN   \n",
       "1                        NaN                      NaN   \n",
       "2                        NaN                      NaN   \n",
       "3                        NaN                      NaN   \n",
       "4                        NaN                      NaN   \n",
       "...                      ...                      ...   \n",
       "16711                    NaN                      NaN   \n",
       "16712                    NaN                      NaN   \n",
       "16713                    NaN                      NaN   \n",
       "16714                    NaN                      NaN   \n",
       "16715                    NaN                      NaN   \n",
       "\n",
       "      LanguageRecommendationFreeForm PublicDatasetsFreeForm  \\\n",
       "0                                NaN                    NaN   \n",
       "1                                NaN                    NaN   \n",
       "2                                NaN                    NaN   \n",
       "3                                NaN                    NaN   \n",
       "4                                NaN                    NaN   \n",
       "...                              ...                    ...   \n",
       "16711                            NaN                    NaN   \n",
       "16712                            NaN                    NaN   \n",
       "16713                            NaN                    NaN   \n",
       "16714                            NaN                    NaN   \n",
       "16715                            NaN                    NaN   \n",
       "\n",
       "                PersonalProjectsChallengeFreeForm  \\\n",
       "0                               Data manipulation   \n",
       "1      I can't find time to practice consistently   \n",
       "2                                             NaN   \n",
       "3                        Connectivity/data fusion   \n",
       "4                                             NaN   \n",
       "...                                           ...   \n",
       "16711                                         NaN   \n",
       "16712                                         NaN   \n",
       "16713                                         NaN   \n",
       "16714                                         NaN   \n",
       "16715                                         NaN   \n",
       "\n",
       "      LearningPlatformCommunityFreeForm LearningPlatformFreeForm1  ...  \\\n",
       "0                                   NaN                       NaN  ...   \n",
       "1                                   NaN                       NaN  ...   \n",
       "2                                   NaN                   Meetups  ...   \n",
       "3                                   NaN                       NaN  ...   \n",
       "4                                   NaN                       NaN  ...   \n",
       "...                                 ...                       ...  ...   \n",
       "16711                               NaN            online courses  ...   \n",
       "16712                               NaN                       NaN  ...   \n",
       "16713                               NaN                       NaN  ...   \n",
       "16714                               NaN                       NaN  ...   \n",
       "16715                               NaN                       NaN  ...   \n",
       "\n",
       "      WorkMethodsFrequencySelect2FreeForm WorkMethodsFrequencySelect3FreeForm  \\\n",
       "0                                     NaN                                 NaN   \n",
       "1                                     NaN                                 NaN   \n",
       "2                                     NaN                                 NaN   \n",
       "3                                     NaN                                 NaN   \n",
       "4                                     NaN                                 NaN   \n",
       "...                                   ...                                 ...   \n",
       "16711                                 NaN                                 NaN   \n",
       "16712                                 NaN                                 NaN   \n",
       "16713                                 NaN                                 NaN   \n",
       "16714                                 NaN                                 NaN   \n",
       "16715                                 NaN                                 NaN   \n",
       "\n",
       "       TimeOtherSelectFreeForm WorkChallengesFreeForm  \\\n",
       "0                          NaN                    NaN   \n",
       "1                          NaN                    NaN   \n",
       "2                          NaN                    NaN   \n",
       "3                          NaN                    NaN   \n",
       "4                          NaN                    NaN   \n",
       "...                        ...                    ...   \n",
       "16711                      NaN                    NaN   \n",
       "16712                      NaN                    NaN   \n",
       "16713                      NaN                    NaN   \n",
       "16714                      NaN                    NaN   \n",
       "16715                      NaN                    NaN   \n",
       "\n",
       "       WorkChallengeFrequencyOtherFreeForm WorkMLTeamSeatFreeForm  \\\n",
       "0                                      NaN                    NaN   \n",
       "1                                      NaN                    NaN   \n",
       "2                                      NaN                    NaN   \n",
       "3                                      NaN                    NaN   \n",
       "4                                      NaN                    NaN   \n",
       "...                                    ...                    ...   \n",
       "16711                                  NaN                    NaN   \n",
       "16712                                  NaN                    NaN   \n",
       "16713                                  NaN                    NaN   \n",
       "16714                                  NaN                    NaN   \n",
       "16715                                  NaN                    NaN   \n",
       "\n",
       "       WorkDataStorageFreeForm WorkCodeSharingFreeForm  SalaryChangeFreeForm  \\\n",
       "0                          NaN                     NaN                   NaN   \n",
       "1                          NaN                     NaN                   NaN   \n",
       "2                          NaN                     NaN                   NaN   \n",
       "3                          NaN                     NaN                   NaN   \n",
       "4                          NaN                     NaN                   NaN   \n",
       "...                        ...                     ...                   ...   \n",
       "16711                      NaN                     NaN                   NaN   \n",
       "16712                      NaN                     NaN                   NaN   \n",
       "16713                      NaN                     NaN                   NaN   \n",
       "16714                      NaN                     NaN                   NaN   \n",
       "16715                      NaN                     NaN                   NaN   \n",
       "\n",
       "      JobSearchResourceFreeForm  \n",
       "0                           NaN  \n",
       "1                           NaN  \n",
       "2                           NaN  \n",
       "3                           NaN  \n",
       "4                           NaN  \n",
       "...                         ...  \n",
       "16711                       NaN  \n",
       "16712                       NaN  \n",
       "16713                       NaN  \n",
       "16714                       NaN  \n",
       "16715                       NaN  \n",
       "\n",
       "[16716 rows x 62 columns]"
      ]
     },
     "execution_count": 298,
     "metadata": {},
     "output_type": "execute_result"
    }
   ],
   "source": [
    "ff = pd.read_csv('data/freeformResponses.csv')\n",
    "ff"
   ]
  },
  {
   "cell_type": "code",
   "execution_count": 311,
   "metadata": {},
   "outputs": [
    {
     "data": {
      "text/html": [
       "<div>\n",
       "<style scoped>\n",
       "    .dataframe tbody tr th:only-of-type {\n",
       "        vertical-align: middle;\n",
       "    }\n",
       "\n",
       "    .dataframe tbody tr th {\n",
       "        vertical-align: top;\n",
       "    }\n",
       "\n",
       "    .dataframe thead th {\n",
       "        text-align: right;\n",
       "    }\n",
       "</style>\n",
       "<table border=\"1\" class=\"dataframe\">\n",
       "  <thead>\n",
       "    <tr style=\"text-align: right;\">\n",
       "      <th></th>\n",
       "      <th>PersonalProjectsChallengeFreeForm</th>\n",
       "    </tr>\n",
       "  </thead>\n",
       "  <tbody>\n",
       "    <tr>\n",
       "      <th>None</th>\n",
       "      <td>23</td>\n",
       "    </tr>\n",
       "    <tr>\n",
       "      <th>Cleaning the data</th>\n",
       "      <td>20</td>\n",
       "    </tr>\n",
       "    <tr>\n",
       "      <th>Cleaning</th>\n",
       "      <td>20</td>\n",
       "    </tr>\n",
       "    <tr>\n",
       "      <th>Dirty data</th>\n",
       "      <td>16</td>\n",
       "    </tr>\n",
       "    <tr>\n",
       "      <th>Data Cleaning</th>\n",
       "      <td>14</td>\n",
       "    </tr>\n",
       "    <tr>\n",
       "      <th>none</th>\n",
       "      <td>13</td>\n",
       "    </tr>\n",
       "    <tr>\n",
       "      <th>dirty data</th>\n",
       "      <td>10</td>\n",
       "    </tr>\n",
       "    <tr>\n",
       "      <th>Data cleaning</th>\n",
       "      <td>10</td>\n",
       "    </tr>\n",
       "    <tr>\n",
       "      <th>-</th>\n",
       "      <td>9</td>\n",
       "    </tr>\n",
       "    <tr>\n",
       "      <th>Size</th>\n",
       "      <td>9</td>\n",
       "    </tr>\n",
       "  </tbody>\n",
       "</table>\n",
       "</div>"
      ],
      "text/plain": [
       "                   PersonalProjectsChallengeFreeForm\n",
       "None                                              23\n",
       "Cleaning the data                                 20\n",
       "Cleaning                                          20\n",
       "Dirty data                                        16\n",
       "Data Cleaning                                     14\n",
       "none                                              13\n",
       "dirty data                                        10\n",
       "Data cleaning                                     10\n",
       "-                                                  9\n",
       "Size                                               9"
      ]
     },
     "execution_count": 311,
     "metadata": {},
     "output_type": "execute_result"
    }
   ],
   "source": [
    "ppcff = ff['PersonalProjectsChallengeFreeForm'].value_counts()\n",
    "pd.DataFrame(ppcff).head(10)"
   ]
  },
  {
   "cell_type": "markdown",
   "metadata": {},
   "source": [
    "대부분 데이터를 처리하는 과정을 가장 어려워함"
   ]
  },
  {
   "cell_type": "markdown",
   "metadata": {},
   "source": [
    "# Q11. 데이터사이언스 직업을 찾는데 가장 고려해야 할 요소는 무엇일까요?"
   ]
  },
  {
   "cell_type": "code",
   "execution_count": 313,
   "metadata": {},
   "outputs": [
    {
     "data": {
      "text/plain": [
       "['JobFactorLearning',\n",
       " 'JobFactorSalary',\n",
       " 'JobFactorOffice',\n",
       " 'JobFactorLanguages',\n",
       " 'JobFactorCommute',\n",
       " 'JobFactorManagement',\n",
       " 'JobFactorExperienceLevel',\n",
       " 'JobFactorDepartment',\n",
       " 'JobFactorTitle',\n",
       " 'JobFactorCompanyFunding',\n",
       " 'JobFactorImpact',\n",
       " 'JobFactorRemote',\n",
       " 'JobFactorIndustry',\n",
       " 'JobFactorLeaderReputation',\n",
       " 'JobFactorDiversity',\n",
       " 'JobFactorPublishingOpportunity']"
      ]
     },
     "execution_count": 313,
     "metadata": {},
     "output_type": "execute_result"
    }
   ],
   "source": [
    "job_factors = [x for x in mcq.columns if x.find(\"JobFactor\")!=-1]\n",
    "job_factors"
   ]
  },
  {
   "cell_type": "code",
   "execution_count": null,
   "metadata": {},
   "outputs": [],
   "source": [
    "jfdf = {}\n",
    "for feature in job_factors:\n",
    "    a = mcq[feature].value_counts()\n",
    "    a = a/a.sum()\n",
    "    jfdf[feature[len('JobFactor'):]] = a\n",
    "\n",
    "jfdf = pd.DataFrame(jfdf).transpose()\n",
    "\n",
    "plt.figure(figsize=(6,10))\n",
    "plt.xticks(rotation=60, ha='right')\n",
    "sns.heatmap(jfdf.sort_values('Very Important', \n",
    "                             ascending=False), annot=True)"
   ]
  }
 ],
 "metadata": {
  "kernelspec": {
   "display_name": "Python 3",
   "language": "python",
   "name": "python3"
  },
  "language_info": {
   "codemirror_mode": {
    "name": "ipython",
    "version": 3
   },
   "file_extension": ".py",
   "mimetype": "text/x-python",
   "name": "python",
   "nbconvert_exporter": "python",
   "pygments_lexer": "ipython3",
   "version": "3.8.5"
  }
 },
 "nbformat": 4,
 "nbformat_minor": 5
}
